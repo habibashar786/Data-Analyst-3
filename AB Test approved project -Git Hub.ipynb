{
 "cells": [
  {
   "cell_type": "markdown",
   "metadata": {},
   "source": [
    "## A/B TEST Project description:\n",
    "\n",
    "You are an analyst at a big online store. Together with the marketing department, you've compiled a list of hypotheses that may help boost revenue.\n",
    "\n",
    "You need to prioritize these hypotheses, launch an A/B test, and analyze the results."
   ]
  },
  {
   "cell_type": "code",
   "execution_count": 1,
   "metadata": {},
   "outputs": [],
   "source": [
    "! pip install -Uq pandas\n",
    "! pip install -Uq seaborn\n",
    "! pip install -Uq plotly\n",
    "import pandas as pd\n",
    "import numpy as np\n",
    "import math\n",
    "import matplotlib.pyplot as plt\n",
    "import seaborn as sns\n",
    "import datetime as dt\n",
    "import scipy.stats as stats"
   ]
  },
  {
   "cell_type": "code",
   "execution_count": 2,
   "metadata": {},
   "outputs": [],
   "source": [
    "try:\n",
    "    data = pd.read_csv('hypotheses_us.csv',sep=';')\n",
    "    orders = pd.read_csv('orders_us.csv')\n",
    "    visits = pd.read_csv('visits_us.csv')\n",
    "except:\n",
    "    data = pd.read_csv('/datasets/hypotheses_us.csv',sep=';')\n",
    "    orders = pd.read_csv('/datasets/orders_us.csv')\n",
    "    visits = pd.read_csv('/datasets/visits_us.csv')"
   ]
  },
  {
   "cell_type": "code",
   "execution_count": 3,
   "metadata": {
    "scrolled": true
   },
   "outputs": [
    {
     "data": {
      "text/html": [
       "<div>\n",
       "<style scoped>\n",
       "    .dataframe tbody tr th:only-of-type {\n",
       "        vertical-align: middle;\n",
       "    }\n",
       "\n",
       "    .dataframe tbody tr th {\n",
       "        vertical-align: top;\n",
       "    }\n",
       "\n",
       "    .dataframe thead th {\n",
       "        text-align: right;\n",
       "    }\n",
       "</style>\n",
       "<table border=\"1\" class=\"dataframe\">\n",
       "  <thead>\n",
       "    <tr style=\"text-align: right;\">\n",
       "      <th></th>\n",
       "      <th>Hypothesis</th>\n",
       "      <th>Reach</th>\n",
       "      <th>Impact</th>\n",
       "      <th>Confidence</th>\n",
       "      <th>Effort</th>\n",
       "    </tr>\n",
       "  </thead>\n",
       "  <tbody>\n",
       "    <tr>\n",
       "      <th>0</th>\n",
       "      <td>Add two new channels for attracting traffic. T...</td>\n",
       "      <td>3</td>\n",
       "      <td>10</td>\n",
       "      <td>8</td>\n",
       "      <td>6</td>\n",
       "    </tr>\n",
       "    <tr>\n",
       "      <th>1</th>\n",
       "      <td>Launch your own delivery service. This will sh...</td>\n",
       "      <td>2</td>\n",
       "      <td>5</td>\n",
       "      <td>4</td>\n",
       "      <td>10</td>\n",
       "    </tr>\n",
       "    <tr>\n",
       "      <th>2</th>\n",
       "      <td>Add product recommendation blocks to the store...</td>\n",
       "      <td>8</td>\n",
       "      <td>3</td>\n",
       "      <td>7</td>\n",
       "      <td>3</td>\n",
       "    </tr>\n",
       "    <tr>\n",
       "      <th>3</th>\n",
       "      <td>Change the category structure. This will incre...</td>\n",
       "      <td>8</td>\n",
       "      <td>3</td>\n",
       "      <td>3</td>\n",
       "      <td>8</td>\n",
       "    </tr>\n",
       "    <tr>\n",
       "      <th>4</th>\n",
       "      <td>Change the background color on the main page. ...</td>\n",
       "      <td>3</td>\n",
       "      <td>1</td>\n",
       "      <td>1</td>\n",
       "      <td>1</td>\n",
       "    </tr>\n",
       "    <tr>\n",
       "      <th>5</th>\n",
       "      <td>Add a customer review page. This will increase...</td>\n",
       "      <td>3</td>\n",
       "      <td>2</td>\n",
       "      <td>2</td>\n",
       "      <td>3</td>\n",
       "    </tr>\n",
       "    <tr>\n",
       "      <th>6</th>\n",
       "      <td>Show banners with current offers and sales on ...</td>\n",
       "      <td>5</td>\n",
       "      <td>3</td>\n",
       "      <td>8</td>\n",
       "      <td>3</td>\n",
       "    </tr>\n",
       "    <tr>\n",
       "      <th>7</th>\n",
       "      <td>Add a subscription form to all the main pages....</td>\n",
       "      <td>10</td>\n",
       "      <td>7</td>\n",
       "      <td>8</td>\n",
       "      <td>5</td>\n",
       "    </tr>\n",
       "    <tr>\n",
       "      <th>8</th>\n",
       "      <td>Launch a promotion that gives users discounts ...</td>\n",
       "      <td>1</td>\n",
       "      <td>9</td>\n",
       "      <td>9</td>\n",
       "      <td>5</td>\n",
       "    </tr>\n",
       "  </tbody>\n",
       "</table>\n",
       "</div>"
      ],
      "text/plain": [
       "                                          Hypothesis  Reach  Impact  \\\n",
       "0  Add two new channels for attracting traffic. T...      3      10   \n",
       "1  Launch your own delivery service. This will sh...      2       5   \n",
       "2  Add product recommendation blocks to the store...      8       3   \n",
       "3  Change the category structure. This will incre...      8       3   \n",
       "4  Change the background color on the main page. ...      3       1   \n",
       "5  Add a customer review page. This will increase...      3       2   \n",
       "6  Show banners with current offers and sales on ...      5       3   \n",
       "7  Add a subscription form to all the main pages....     10       7   \n",
       "8  Launch a promotion that gives users discounts ...      1       9   \n",
       "\n",
       "   Confidence  Effort  \n",
       "0           8       6  \n",
       "1           4      10  \n",
       "2           7       3  \n",
       "3           3       8  \n",
       "4           1       1  \n",
       "5           2       3  \n",
       "6           8       3  \n",
       "7           8       5  \n",
       "8           9       5  "
      ]
     },
     "execution_count": 3,
     "metadata": {},
     "output_type": "execute_result"
    }
   ],
   "source": [
    "data.head(15)"
   ]
  },
  {
   "cell_type": "code",
   "execution_count": 4,
   "metadata": {
    "scrolled": true
   },
   "outputs": [
    {
     "data": {
      "text/html": [
       "<div>\n",
       "<style scoped>\n",
       "    .dataframe tbody tr th:only-of-type {\n",
       "        vertical-align: middle;\n",
       "    }\n",
       "\n",
       "    .dataframe tbody tr th {\n",
       "        vertical-align: top;\n",
       "    }\n",
       "\n",
       "    .dataframe thead th {\n",
       "        text-align: right;\n",
       "    }\n",
       "</style>\n",
       "<table border=\"1\" class=\"dataframe\">\n",
       "  <thead>\n",
       "    <tr style=\"text-align: right;\">\n",
       "      <th></th>\n",
       "      <th>hypothesis</th>\n",
       "      <th>reach</th>\n",
       "      <th>impact</th>\n",
       "      <th>confidence</th>\n",
       "      <th>effort</th>\n",
       "    </tr>\n",
       "  </thead>\n",
       "  <tbody>\n",
       "    <tr>\n",
       "      <th>0</th>\n",
       "      <td>Add two new channels for attracting traffic. T...</td>\n",
       "      <td>3</td>\n",
       "      <td>10</td>\n",
       "      <td>8</td>\n",
       "      <td>6</td>\n",
       "    </tr>\n",
       "    <tr>\n",
       "      <th>1</th>\n",
       "      <td>Launch your own delivery service. This will sh...</td>\n",
       "      <td>2</td>\n",
       "      <td>5</td>\n",
       "      <td>4</td>\n",
       "      <td>10</td>\n",
       "    </tr>\n",
       "    <tr>\n",
       "      <th>2</th>\n",
       "      <td>Add product recommendation blocks to the store...</td>\n",
       "      <td>8</td>\n",
       "      <td>3</td>\n",
       "      <td>7</td>\n",
       "      <td>3</td>\n",
       "    </tr>\n",
       "    <tr>\n",
       "      <th>3</th>\n",
       "      <td>Change the category structure. This will incre...</td>\n",
       "      <td>8</td>\n",
       "      <td>3</td>\n",
       "      <td>3</td>\n",
       "      <td>8</td>\n",
       "    </tr>\n",
       "    <tr>\n",
       "      <th>4</th>\n",
       "      <td>Change the background color on the main page. ...</td>\n",
       "      <td>3</td>\n",
       "      <td>1</td>\n",
       "      <td>1</td>\n",
       "      <td>1</td>\n",
       "    </tr>\n",
       "  </tbody>\n",
       "</table>\n",
       "</div>"
      ],
      "text/plain": [
       "                                          hypothesis  reach  impact  \\\n",
       "0  Add two new channels for attracting traffic. T...      3      10   \n",
       "1  Launch your own delivery service. This will sh...      2       5   \n",
       "2  Add product recommendation blocks to the store...      8       3   \n",
       "3  Change the category structure. This will incre...      8       3   \n",
       "4  Change the background color on the main page. ...      3       1   \n",
       "\n",
       "   confidence  effort  \n",
       "0           8       6  \n",
       "1           4      10  \n",
       "2           7       3  \n",
       "3           3       8  \n",
       "4           1       1  "
      ]
     },
     "execution_count": 4,
     "metadata": {},
     "output_type": "execute_result"
    }
   ],
   "source": [
    "data.columns = data.columns.str.lower()\n",
    "data.head()"
   ]
  },
  {
   "cell_type": "code",
   "execution_count": 5,
   "metadata": {},
   "outputs": [
    {
     "data": {
      "text/html": [
       "<div>\n",
       "<style scoped>\n",
       "    .dataframe tbody tr th:only-of-type {\n",
       "        vertical-align: middle;\n",
       "    }\n",
       "\n",
       "    .dataframe tbody tr th {\n",
       "        vertical-align: top;\n",
       "    }\n",
       "\n",
       "    .dataframe thead th {\n",
       "        text-align: right;\n",
       "    }\n",
       "</style>\n",
       "<table border=\"1\" class=\"dataframe\">\n",
       "  <thead>\n",
       "    <tr style=\"text-align: right;\">\n",
       "      <th></th>\n",
       "      <th>transactionId</th>\n",
       "      <th>visitorId</th>\n",
       "      <th>date</th>\n",
       "      <th>revenue</th>\n",
       "      <th>group</th>\n",
       "    </tr>\n",
       "  </thead>\n",
       "  <tbody>\n",
       "    <tr>\n",
       "      <th>0</th>\n",
       "      <td>3667963787</td>\n",
       "      <td>3312258926</td>\n",
       "      <td>2019-08-15</td>\n",
       "      <td>30.4</td>\n",
       "      <td>B</td>\n",
       "    </tr>\n",
       "    <tr>\n",
       "      <th>1</th>\n",
       "      <td>2804400009</td>\n",
       "      <td>3642806036</td>\n",
       "      <td>2019-08-15</td>\n",
       "      <td>15.2</td>\n",
       "      <td>B</td>\n",
       "    </tr>\n",
       "    <tr>\n",
       "      <th>2</th>\n",
       "      <td>2961555356</td>\n",
       "      <td>4069496402</td>\n",
       "      <td>2019-08-15</td>\n",
       "      <td>10.2</td>\n",
       "      <td>A</td>\n",
       "    </tr>\n",
       "    <tr>\n",
       "      <th>3</th>\n",
       "      <td>3797467345</td>\n",
       "      <td>1196621759</td>\n",
       "      <td>2019-08-15</td>\n",
       "      <td>155.1</td>\n",
       "      <td>B</td>\n",
       "    </tr>\n",
       "    <tr>\n",
       "      <th>4</th>\n",
       "      <td>2282983706</td>\n",
       "      <td>2322279887</td>\n",
       "      <td>2019-08-15</td>\n",
       "      <td>40.5</td>\n",
       "      <td>B</td>\n",
       "    </tr>\n",
       "  </tbody>\n",
       "</table>\n",
       "</div>"
      ],
      "text/plain": [
       "   transactionId   visitorId        date  revenue group\n",
       "0     3667963787  3312258926  2019-08-15     30.4     B\n",
       "1     2804400009  3642806036  2019-08-15     15.2     B\n",
       "2     2961555356  4069496402  2019-08-15     10.2     A\n",
       "3     3797467345  1196621759  2019-08-15    155.1     B\n",
       "4     2282983706  2322279887  2019-08-15     40.5     B"
      ]
     },
     "execution_count": 5,
     "metadata": {},
     "output_type": "execute_result"
    }
   ],
   "source": [
    "orders.head()"
   ]
  },
  {
   "cell_type": "markdown",
   "metadata": {},
   "source": [
    "### PreProcessing removing the users exist in both groups :"
   ]
  },
  {
   "cell_type": "code",
   "execution_count": 6,
   "metadata": {},
   "outputs": [
    {
     "name": "stdout",
     "output_type": "stream",
     "text": [
      "groupA - 503\n"
     ]
    }
   ],
   "source": [
    "groupA = orders[orders.group == 'A'].visitorId.unique().tolist()\n",
    "print('groupA - {}'.format(len(groupA)))\n"
   ]
  },
  {
   "cell_type": "code",
   "execution_count": 7,
   "metadata": {},
   "outputs": [
    {
     "name": "stdout",
     "output_type": "stream",
     "text": [
      "groupB - 586\n"
     ]
    }
   ],
   "source": [
    "groupB = orders[orders.group =='B'].visitorId.unique().tolist()\n",
    "print('groupB - {}'.format(len(groupB)))\n"
   ]
  },
  {
   "cell_type": "code",
   "execution_count": 8,
   "metadata": {
    "scrolled": false
   },
   "outputs": [
    {
     "name": "stdout",
     "output_type": "stream",
     "text": [
      "users in both group - 58\n"
     ]
    }
   ],
   "source": [
    "double_group= [value for value in groupA if value in groupB]\n",
    "print('users in both group - {}'.format(len(double_group)))"
   ]
  },
  {
   "cell_type": "code",
   "execution_count": 9,
   "metadata": {
    "scrolled": false
   },
   "outputs": [
    {
     "data": {
      "text/html": [
       "<div>\n",
       "<style scoped>\n",
       "    .dataframe tbody tr th:only-of-type {\n",
       "        vertical-align: middle;\n",
       "    }\n",
       "\n",
       "    .dataframe tbody tr th {\n",
       "        vertical-align: top;\n",
       "    }\n",
       "\n",
       "    .dataframe thead th {\n",
       "        text-align: right;\n",
       "    }\n",
       "</style>\n",
       "<table border=\"1\" class=\"dataframe\">\n",
       "  <thead>\n",
       "    <tr style=\"text-align: right;\">\n",
       "      <th></th>\n",
       "      <th>transactionId</th>\n",
       "      <th>visitorId</th>\n",
       "      <th>date</th>\n",
       "      <th>revenue</th>\n",
       "      <th>group</th>\n",
       "    </tr>\n",
       "  </thead>\n",
       "  <tbody>\n",
       "    <tr>\n",
       "      <th>0</th>\n",
       "      <td>3667963787</td>\n",
       "      <td>3312258926</td>\n",
       "      <td>2019-08-15</td>\n",
       "      <td>30.4</td>\n",
       "      <td>B</td>\n",
       "    </tr>\n",
       "    <tr>\n",
       "      <th>1</th>\n",
       "      <td>2804400009</td>\n",
       "      <td>3642806036</td>\n",
       "      <td>2019-08-15</td>\n",
       "      <td>15.2</td>\n",
       "      <td>B</td>\n",
       "    </tr>\n",
       "    <tr>\n",
       "      <th>3</th>\n",
       "      <td>3797467345</td>\n",
       "      <td>1196621759</td>\n",
       "      <td>2019-08-15</td>\n",
       "      <td>155.1</td>\n",
       "      <td>B</td>\n",
       "    </tr>\n",
       "    <tr>\n",
       "      <th>4</th>\n",
       "      <td>2282983706</td>\n",
       "      <td>2322279887</td>\n",
       "      <td>2019-08-15</td>\n",
       "      <td>40.5</td>\n",
       "      <td>B</td>\n",
       "    </tr>\n",
       "    <tr>\n",
       "      <th>5</th>\n",
       "      <td>182168103</td>\n",
       "      <td>935554773</td>\n",
       "      <td>2019-08-15</td>\n",
       "      <td>35.0</td>\n",
       "      <td>B</td>\n",
       "    </tr>\n",
       "  </tbody>\n",
       "</table>\n",
       "</div>"
      ],
      "text/plain": [
       "   transactionId   visitorId        date  revenue group\n",
       "0     3667963787  3312258926  2019-08-15     30.4     B\n",
       "1     2804400009  3642806036  2019-08-15     15.2     B\n",
       "3     3797467345  1196621759  2019-08-15    155.1     B\n",
       "4     2282983706  2322279887  2019-08-15     40.5     B\n",
       "5      182168103   935554773  2019-08-15     35.0     B"
      ]
     },
     "execution_count": 9,
     "metadata": {},
     "output_type": "execute_result"
    }
   ],
   "source": [
    "orders = orders[~orders.visitorId.isin(double_group)]\n",
    "orders.head()"
   ]
  },
  {
   "cell_type": "code",
   "execution_count": 10,
   "metadata": {},
   "outputs": [
    {
     "name": "stdout",
     "output_type": "stream",
     "text": [
      "updaetd groupA - 445\n"
     ]
    }
   ],
   "source": [
    "groupA = orders[orders.group == 'A'].visitorId.unique().tolist()\n",
    "print('updaetd groupA - {}'.format(len(groupA)))"
   ]
  },
  {
   "cell_type": "code",
   "execution_count": 11,
   "metadata": {},
   "outputs": [
    {
     "name": "stdout",
     "output_type": "stream",
     "text": [
      "updated groupB - 528\n"
     ]
    }
   ],
   "source": [
    "groupB = orders[orders.group == 'B'].visitorId.unique().tolist()\n",
    "print('updated groupB - {}'.format(len(groupB)))"
   ]
  },
  {
   "cell_type": "code",
   "execution_count": 12,
   "metadata": {},
   "outputs": [
    {
     "name": "stdout",
     "output_type": "stream",
     "text": [
      "users in both groups now - 0\n"
     ]
    }
   ],
   "source": [
    "double_group_check = [ value for value in groupA if value in groupB]\n",
    "print('users in both groups now - {}'.format(len(double_group_check)))"
   ]
  },
  {
   "cell_type": "code",
   "execution_count": 13,
   "metadata": {
    "scrolled": true
   },
   "outputs": [
    {
     "name": "stdout",
     "output_type": "stream",
     "text": [
      "updated list of orders - 1016\n"
     ]
    }
   ],
   "source": [
    "print('updated list of orders - {}'.format(orders.shape[0]))"
   ]
  },
  {
   "cell_type": "code",
   "execution_count": 14,
   "metadata": {},
   "outputs": [
    {
     "data": {
      "text/html": [
       "<div>\n",
       "<style scoped>\n",
       "    .dataframe tbody tr th:only-of-type {\n",
       "        vertical-align: middle;\n",
       "    }\n",
       "\n",
       "    .dataframe tbody tr th {\n",
       "        vertical-align: top;\n",
       "    }\n",
       "\n",
       "    .dataframe thead th {\n",
       "        text-align: right;\n",
       "    }\n",
       "</style>\n",
       "<table border=\"1\" class=\"dataframe\">\n",
       "  <thead>\n",
       "    <tr style=\"text-align: right;\">\n",
       "      <th></th>\n",
       "      <th>transactionId</th>\n",
       "      <th>visitorId</th>\n",
       "      <th>date</th>\n",
       "      <th>revenue</th>\n",
       "      <th>group</th>\n",
       "    </tr>\n",
       "  </thead>\n",
       "  <tbody>\n",
       "    <tr>\n",
       "      <th>0</th>\n",
       "      <td>3667963787</td>\n",
       "      <td>3312258926</td>\n",
       "      <td>2019-08-15</td>\n",
       "      <td>30.4</td>\n",
       "      <td>B</td>\n",
       "    </tr>\n",
       "    <tr>\n",
       "      <th>1</th>\n",
       "      <td>2804400009</td>\n",
       "      <td>3642806036</td>\n",
       "      <td>2019-08-15</td>\n",
       "      <td>15.2</td>\n",
       "      <td>B</td>\n",
       "    </tr>\n",
       "    <tr>\n",
       "      <th>3</th>\n",
       "      <td>3797467345</td>\n",
       "      <td>1196621759</td>\n",
       "      <td>2019-08-15</td>\n",
       "      <td>155.1</td>\n",
       "      <td>B</td>\n",
       "    </tr>\n",
       "    <tr>\n",
       "      <th>4</th>\n",
       "      <td>2282983706</td>\n",
       "      <td>2322279887</td>\n",
       "      <td>2019-08-15</td>\n",
       "      <td>40.5</td>\n",
       "      <td>B</td>\n",
       "    </tr>\n",
       "    <tr>\n",
       "      <th>5</th>\n",
       "      <td>182168103</td>\n",
       "      <td>935554773</td>\n",
       "      <td>2019-08-15</td>\n",
       "      <td>35.0</td>\n",
       "      <td>B</td>\n",
       "    </tr>\n",
       "  </tbody>\n",
       "</table>\n",
       "</div>"
      ],
      "text/plain": [
       "   transactionId   visitorId        date  revenue group\n",
       "0     3667963787  3312258926  2019-08-15     30.4     B\n",
       "1     2804400009  3642806036  2019-08-15     15.2     B\n",
       "3     3797467345  1196621759  2019-08-15    155.1     B\n",
       "4     2282983706  2322279887  2019-08-15     40.5     B\n",
       "5      182168103   935554773  2019-08-15     35.0     B"
      ]
     },
     "execution_count": 14,
     "metadata": {},
     "output_type": "execute_result"
    }
   ],
   "source": [
    "orders.head()"
   ]
  },
  {
   "cell_type": "markdown",
   "metadata": {},
   "source": [
    "### Conclusion: \n",
    "Now we have users which is not repeating in the Group A and Group B."
   ]
  },
  {
   "cell_type": "markdown",
   "metadata": {},
   "source": [
    "## Part 1. Prioritizing Hypotheses:\n",
    "\n",
    "### Apply the ICE framework to prioritize hypotheses"
   ]
  },
  {
   "cell_type": "code",
   "execution_count": 15,
   "metadata": {
    "scrolled": true
   },
   "outputs": [
    {
     "name": "stdout",
     "output_type": "stream",
     "text": [
      "                                          hypothesis        ice\n",
      "8  Launch a promotion that gives users discounts ...  16.200000\n",
      "0  Add two new channels for attracting traffic. T...  13.333333\n",
      "7  Add a subscription form to all the main pages....  11.200000\n",
      "6  Show banners with current offers and sales on ...   8.000000\n",
      "2  Add product recommendation blocks to the store...   7.000000\n",
      "1  Launch your own delivery service. This will sh...   2.000000\n",
      "5  Add a customer review page. This will increase...   1.333333\n",
      "3  Change the category structure. This will incre...   1.125000\n",
      "4  Change the background color on the main page. ...   1.000000\n"
     ]
    }
   ],
   "source": [
    "data['ice'] = (data['impact']* data['confidence']) / data['effort']\n",
    "print(data[['hypothesis','ice']].sort_values(by='ice', ascending=False))"
   ]
  },
  {
   "cell_type": "markdown",
   "metadata": {},
   "source": [
    "### Apply the RICE framework to prioritize hypotheses:\n"
   ]
  },
  {
   "cell_type": "code",
   "execution_count": 16,
   "metadata": {},
   "outputs": [
    {
     "name": "stdout",
     "output_type": "stream",
     "text": [
      "                                          hypothesis   rice\n",
      "7  Add a subscription form to all the main pages....  112.0\n",
      "2  Add product recommendation blocks to the store...   56.0\n",
      "0  Add two new channels for attracting traffic. T...   40.0\n",
      "6  Show banners with current offers and sales on ...   40.0\n",
      "8  Launch a promotion that gives users discounts ...   16.2\n",
      "3  Change the category structure. This will incre...    9.0\n",
      "1  Launch your own delivery service. This will sh...    4.0\n",
      "5  Add a customer review page. This will increase...    4.0\n",
      "4  Change the background color on the main page. ...    3.0\n"
     ]
    }
   ],
   "source": [
    "data['rice'] = (data['reach']* data['impact']* data['confidence']) / data['effort']\n",
    "print(data[['hypothesis','rice']].sort_values(by='rice', ascending=False))"
   ]
  },
  {
   "cell_type": "markdown",
   "metadata": {},
   "source": [
    "### prioritization of hypotheses ( RICE instead of ICE).\n",
    "\n",
    "Ice has three components ( Impact + Confidence = Efforts)\n",
    "\n",
    "Rice has four components. (One component more then ice which is reach)\n",
    "\n",
    "Reach - how many users will be affected by the update\n",
    "\n",
    "Impact - how strongly this update will affect the users.\n",
    "\n",
    "Confidence - how sure you are the product will affect them.\n",
    "\n",
    "_RICE + IMPACT + CONFIDENCE  = EFFORTS_\n"
   ]
  },
  {
   "cell_type": "code",
   "execution_count": 17,
   "metadata": {},
   "outputs": [
    {
     "data": {
      "image/png": "[encoded data removed]",
      "text/plain": [
       "<Figure size 720x576 with 1 Axes>"
      ]
     },
     "metadata": {
      "needs_background": "light"
     },
     "output_type": "display_data"
    }
   ],
   "source": [
    "plt.figure(figsize=(10,8))\n",
    "sns.barplot(x=data.index, y='ice', label='ice', color='blue', alpha=0.5,\n",
    "              data=data, log=True)\n",
    "for i, v in enumerate(data['ice']):\n",
    "    plt.text(i-.15, v+.5, round(v,1), fontsize=12, color='black', fontweight='bold')\n",
    "    \n",
    "sns.barplot(x=data.index, y='rice', label='rice', color='green', alpha=0.5,\n",
    "              data=data, log=True)\n",
    "for i, v in enumerate(data['rice']):\n",
    "    plt.text(i-.15, v+.5, round(v,1), fontsize=12, color='black', fontweight='bold')\n",
    "    \n",
    "plt.legend(prop={'size': 12}, title = 'Metrics')\n",
    "plt.ylabel('priority')\n",
    "plt.xlabel('hypothesis')\n",
    "plt.title('Metrics ice and rice for priority')\n",
    "plt.show()"
   ]
  },
  {
   "cell_type": "markdown",
   "metadata": {},
   "source": [
    "#### Conclusion:\n",
    "\n",
    "1. as per the above ice and rice comparison its clear that rice has higher impact.\n",
    "2. as we can see that from '0' to '8' hypothesis we can see that 0 , 2 , 6 ,7,8 has high impact."
   ]
  },
  {
   "cell_type": "markdown",
   "metadata": {},
   "source": [
    "## Part 2. A/B Test Analysis:\n",
    "\n",
    "### _1.Graph cumulative revenue by group. Make conclusions and conjectures._"
   ]
  },
  {
   "cell_type": "code",
   "execution_count": 18,
   "metadata": {},
   "outputs": [
    {
     "data": {
      "text/html": [
       "<div>\n",
       "<style scoped>\n",
       "    .dataframe tbody tr th:only-of-type {\n",
       "        vertical-align: middle;\n",
       "    }\n",
       "\n",
       "    .dataframe tbody tr th {\n",
       "        vertical-align: top;\n",
       "    }\n",
       "\n",
       "    .dataframe thead th {\n",
       "        text-align: right;\n",
       "    }\n",
       "</style>\n",
       "<table border=\"1\" class=\"dataframe\">\n",
       "  <thead>\n",
       "    <tr style=\"text-align: right;\">\n",
       "      <th></th>\n",
       "      <th>transactionId</th>\n",
       "      <th>visitorId</th>\n",
       "      <th>date</th>\n",
       "      <th>revenue</th>\n",
       "      <th>group</th>\n",
       "    </tr>\n",
       "  </thead>\n",
       "  <tbody>\n",
       "    <tr>\n",
       "      <th>0</th>\n",
       "      <td>3667963787</td>\n",
       "      <td>3312258926</td>\n",
       "      <td>2019-08-15</td>\n",
       "      <td>30.4</td>\n",
       "      <td>B</td>\n",
       "    </tr>\n",
       "    <tr>\n",
       "      <th>1</th>\n",
       "      <td>2804400009</td>\n",
       "      <td>3642806036</td>\n",
       "      <td>2019-08-15</td>\n",
       "      <td>15.2</td>\n",
       "      <td>B</td>\n",
       "    </tr>\n",
       "    <tr>\n",
       "      <th>3</th>\n",
       "      <td>3797467345</td>\n",
       "      <td>1196621759</td>\n",
       "      <td>2019-08-15</td>\n",
       "      <td>155.1</td>\n",
       "      <td>B</td>\n",
       "    </tr>\n",
       "    <tr>\n",
       "      <th>4</th>\n",
       "      <td>2282983706</td>\n",
       "      <td>2322279887</td>\n",
       "      <td>2019-08-15</td>\n",
       "      <td>40.5</td>\n",
       "      <td>B</td>\n",
       "    </tr>\n",
       "    <tr>\n",
       "      <th>5</th>\n",
       "      <td>182168103</td>\n",
       "      <td>935554773</td>\n",
       "      <td>2019-08-15</td>\n",
       "      <td>35.0</td>\n",
       "      <td>B</td>\n",
       "    </tr>\n",
       "  </tbody>\n",
       "</table>\n",
       "</div>"
      ],
      "text/plain": [
       "   transactionId   visitorId        date  revenue group\n",
       "0     3667963787  3312258926  2019-08-15     30.4     B\n",
       "1     2804400009  3642806036  2019-08-15     15.2     B\n",
       "3     3797467345  1196621759  2019-08-15    155.1     B\n",
       "4     2282983706  2322279887  2019-08-15     40.5     B\n",
       "5      182168103   935554773  2019-08-15     35.0     B"
      ]
     },
     "execution_count": 18,
     "metadata": {},
     "output_type": "execute_result"
    }
   ],
   "source": [
    "orders.head()"
   ]
  },
  {
   "cell_type": "code",
   "execution_count": 19,
   "metadata": {
    "scrolled": true
   },
   "outputs": [
    {
     "data": {
      "text/html": [
       "<div>\n",
       "<style scoped>\n",
       "    .dataframe tbody tr th:only-of-type {\n",
       "        vertical-align: middle;\n",
       "    }\n",
       "\n",
       "    .dataframe tbody tr th {\n",
       "        vertical-align: top;\n",
       "    }\n",
       "\n",
       "    .dataframe thead th {\n",
       "        text-align: right;\n",
       "    }\n",
       "</style>\n",
       "<table border=\"1\" class=\"dataframe\">\n",
       "  <thead>\n",
       "    <tr style=\"text-align: right;\">\n",
       "      <th></th>\n",
       "      <th>visitorId</th>\n",
       "      <th>revenue</th>\n",
       "    </tr>\n",
       "    <tr>\n",
       "      <th>group</th>\n",
       "      <th></th>\n",
       "      <th></th>\n",
       "    </tr>\n",
       "  </thead>\n",
       "  <tbody>\n",
       "    <tr>\n",
       "      <th>A</th>\n",
       "      <td>445</td>\n",
       "      <td>53212.0</td>\n",
       "    </tr>\n",
       "    <tr>\n",
       "      <th>B</th>\n",
       "      <td>528</td>\n",
       "      <td>79651.2</td>\n",
       "    </tr>\n",
       "  </tbody>\n",
       "</table>\n",
       "</div>"
      ],
      "text/plain": [
       "       visitorId  revenue\n",
       "group                    \n",
       "A            445  53212.0\n",
       "B            528  79651.2"
      ]
     },
     "execution_count": 19,
     "metadata": {},
     "output_type": "execute_result"
    }
   ],
   "source": [
    "visitorgrp = orders.groupby('group').agg({'visitorId':'nunique', 'revenue':'sum'})\n",
    "visitorgrp"
   ]
  },
  {
   "cell_type": "code",
   "execution_count": 20,
   "metadata": {},
   "outputs": [
    {
     "data": {
      "image/png": "[encoded data removed]",
      "text/plain": [
       "<Figure size 432x288 with 1 Axes>"
      ]
     },
     "metadata": {
      "needs_background": "light"
     },
     "output_type": "display_data"
    }
   ],
   "source": [
    "ABgrp = orders.groupby('group')['revenue'].agg(sum)\n",
    "ABgrp.plot(kind='bar', title='Group A & B cumulatvie Rev.', ylabel='Rev');"
   ]
  },
  {
   "cell_type": "code",
   "execution_count": 21,
   "metadata": {},
   "outputs": [],
   "source": [
    "dateGroup = orders[['date','group']].drop_duplicates()"
   ]
  },
  {
   "cell_type": "code",
   "execution_count": 22,
   "metadata": {},
   "outputs": [],
   "source": [
    "orderAggregate = dateGroup.apply(lambda x: orders[np.logical_and(orders['date'] <=x['date'] ,orders['group'] ==x['group'])].agg({'date':'max' , 'group':'max', 'transactionId' :pd.Series.nunique, 'visitorId':pd.Series.nunique, 'revenue': 'sum'}), axis=1,).sort_values(by=['date','group'])\n",
    "visitorAggregate = dateGroup.apply(lambda x: visits[np.logical_and(visits['date'] <=x['date'] ,visits['group'] ==x['group'])].agg({'date':'max' , 'group':'max', 'visits':'sum'}), axis=1,).sort_values(by=['date','group'])"
   ]
  },
  {
   "cell_type": "code",
   "execution_count": 23,
   "metadata": {},
   "outputs": [
    {
     "data": {
      "text/html": [
       "<div>\n",
       "<style scoped>\n",
       "    .dataframe tbody tr th:only-of-type {\n",
       "        vertical-align: middle;\n",
       "    }\n",
       "\n",
       "    .dataframe tbody tr th {\n",
       "        vertical-align: top;\n",
       "    }\n",
       "\n",
       "    .dataframe thead th {\n",
       "        text-align: right;\n",
       "    }\n",
       "</style>\n",
       "<table border=\"1\" class=\"dataframe\">\n",
       "  <thead>\n",
       "    <tr style=\"text-align: right;\">\n",
       "      <th></th>\n",
       "      <th>date</th>\n",
       "      <th>group</th>\n",
       "      <th>transactionId</th>\n",
       "      <th>visitorId</th>\n",
       "      <th>revenue</th>\n",
       "    </tr>\n",
       "  </thead>\n",
       "  <tbody>\n",
       "    <tr>\n",
       "      <th>55</th>\n",
       "      <td>2019-08-01</td>\n",
       "      <td>A</td>\n",
       "      <td>23</td>\n",
       "      <td>19</td>\n",
       "      <td>2266.6</td>\n",
       "    </tr>\n",
       "    <tr>\n",
       "      <th>66</th>\n",
       "      <td>2019-08-01</td>\n",
       "      <td>B</td>\n",
       "      <td>17</td>\n",
       "      <td>17</td>\n",
       "      <td>967.2</td>\n",
       "    </tr>\n",
       "    <tr>\n",
       "      <th>175</th>\n",
       "      <td>2019-08-02</td>\n",
       "      <td>A</td>\n",
       "      <td>42</td>\n",
       "      <td>36</td>\n",
       "      <td>3734.9</td>\n",
       "    </tr>\n",
       "    <tr>\n",
       "      <th>173</th>\n",
       "      <td>2019-08-02</td>\n",
       "      <td>B</td>\n",
       "      <td>40</td>\n",
       "      <td>39</td>\n",
       "      <td>3535.3</td>\n",
       "    </tr>\n",
       "    <tr>\n",
       "      <th>291</th>\n",
       "      <td>2019-08-03</td>\n",
       "      <td>A</td>\n",
       "      <td>66</td>\n",
       "      <td>60</td>\n",
       "      <td>5550.1</td>\n",
       "    </tr>\n",
       "  </tbody>\n",
       "</table>\n",
       "</div>"
      ],
      "text/plain": [
       "           date group  transactionId  visitorId  revenue\n",
       "55   2019-08-01     A             23         19   2266.6\n",
       "66   2019-08-01     B             17         17    967.2\n",
       "175  2019-08-02     A             42         36   3734.9\n",
       "173  2019-08-02     B             40         39   3535.3\n",
       "291  2019-08-03     A             66         60   5550.1"
      ]
     },
     "execution_count": 23,
     "metadata": {},
     "output_type": "execute_result"
    }
   ],
   "source": [
    "orderAggregate.head()"
   ]
  },
  {
   "cell_type": "code",
   "execution_count": 24,
   "metadata": {},
   "outputs": [
    {
     "data": {
      "text/html": [
       "<div>\n",
       "<style scoped>\n",
       "    .dataframe tbody tr th:only-of-type {\n",
       "        vertical-align: middle;\n",
       "    }\n",
       "\n",
       "    .dataframe tbody tr th {\n",
       "        vertical-align: top;\n",
       "    }\n",
       "\n",
       "    .dataframe thead th {\n",
       "        text-align: right;\n",
       "    }\n",
       "</style>\n",
       "<table border=\"1\" class=\"dataframe\">\n",
       "  <thead>\n",
       "    <tr style=\"text-align: right;\">\n",
       "      <th></th>\n",
       "      <th>date</th>\n",
       "      <th>group</th>\n",
       "      <th>visits</th>\n",
       "    </tr>\n",
       "  </thead>\n",
       "  <tbody>\n",
       "    <tr>\n",
       "      <th>55</th>\n",
       "      <td>2019-08-01</td>\n",
       "      <td>A</td>\n",
       "      <td>719</td>\n",
       "    </tr>\n",
       "    <tr>\n",
       "      <th>66</th>\n",
       "      <td>2019-08-01</td>\n",
       "      <td>B</td>\n",
       "      <td>713</td>\n",
       "    </tr>\n",
       "    <tr>\n",
       "      <th>175</th>\n",
       "      <td>2019-08-02</td>\n",
       "      <td>A</td>\n",
       "      <td>1338</td>\n",
       "    </tr>\n",
       "    <tr>\n",
       "      <th>173</th>\n",
       "      <td>2019-08-02</td>\n",
       "      <td>B</td>\n",
       "      <td>1294</td>\n",
       "    </tr>\n",
       "    <tr>\n",
       "      <th>291</th>\n",
       "      <td>2019-08-03</td>\n",
       "      <td>A</td>\n",
       "      <td>1845</td>\n",
       "    </tr>\n",
       "  </tbody>\n",
       "</table>\n",
       "</div>"
      ],
      "text/plain": [
       "           date group  visits\n",
       "55   2019-08-01     A     719\n",
       "66   2019-08-01     B     713\n",
       "175  2019-08-02     A    1338\n",
       "173  2019-08-02     B    1294\n",
       "291  2019-08-03     A    1845"
      ]
     },
     "execution_count": 24,
     "metadata": {},
     "output_type": "execute_result"
    }
   ],
   "source": [
    "visitorAggregate.head()"
   ]
  },
  {
   "cell_type": "code",
   "execution_count": 25,
   "metadata": {},
   "outputs": [
    {
     "name": "stdout",
     "output_type": "stream",
     "text": [
      "         date group  orders  visitors  revenue  visits\n",
      "0  2019-08-01     A      23        19   2266.6     719\n",
      "1  2019-08-01     B      17        17    967.2     713\n",
      "2  2019-08-02     A      42        36   3734.9    1338\n",
      "3  2019-08-02     B      40        39   3535.3    1294\n",
      "4  2019-08-03     A      66        60   5550.1    1845\n"
     ]
    }
   ],
   "source": [
    "cumulativeData = orderAggregate.merge(visitorAggregate, left_on=['date', 'group'], right_on=['date', 'group'])\n",
    "# cumulativeData.columns = ['date', 'group', 'orders', 'visitors', 'revenue']\n",
    "cumulativeData = cumulativeData.rename(columns= {'date':'date', 'group':'group', 'transactionId':'orders', 'visitorId':'visitors', 'revenue':'revenue'})\n",
    "\n",
    "\n",
    "print(cumulativeData.head(5))"
   ]
  },
  {
   "cell_type": "code",
   "execution_count": 26,
   "metadata": {},
   "outputs": [],
   "source": [
    "cumulativeRevenueA = cumulativeData[cumulativeData['group']=='A'][['date','revenue', 'orders']]\n",
    "cumulativeRevenueB = cumulativeData[cumulativeData['group']=='B'][['date','revenue', 'orders']]\n"
   ]
  },
  {
   "cell_type": "code",
   "execution_count": 27,
   "metadata": {},
   "outputs": [
    {
     "name": "stderr",
     "output_type": "stream",
     "text": [
      "/opt/conda/lib/python3.7/site-packages/matplotlib/cbook/__init__.py:1402: FutureWarning: Support for multi-dimensional indexing (e.g. `obj[:, None]`) is deprecated and will be removed in a future version.  Convert to a numpy array before indexing instead.\n",
      "  x[:, None]\n",
      "/opt/conda/lib/python3.7/site-packages/matplotlib/axes/_base.py:276: FutureWarning: Support for multi-dimensional indexing (e.g. `obj[:, None]`) is deprecated and will be removed in a future version.  Convert to a numpy array before indexing instead.\n",
      "  x = x[:, np.newaxis]\n",
      "/opt/conda/lib/python3.7/site-packages/matplotlib/axes/_base.py:278: FutureWarning: Support for multi-dimensional indexing (e.g. `obj[:, None]`) is deprecated and will be removed in a future version.  Convert to a numpy array before indexing instead.\n",
      "  y = y[:, np.newaxis]\n"
     ]
    },
    {
     "data": {
      "image/png": "[encoded data removed]",
      "text/plain": [
       "<Figure size 432x288 with 1 Axes>"
      ]
     },
     "metadata": {
      "needs_background": "light"
     },
     "output_type": "display_data"
    }
   ],
   "source": [
    "plt.plot(cumulativeRevenueA['date'], cumulativeRevenueA['revenue'], label='A')\n",
    "plt.plot(cumulativeRevenueB['date'], cumulativeRevenueB['revenue'], label='B')\n",
    "\n",
    "plt.legend() \n",
    "plt.xticks(rotation=90)\n",
    "plt.ylabel('Revenue')\n",
    "plt.title('cumulative Rev. Group A & B')\n",
    "plt.show()"
   ]
  },
  {
   "cell_type": "markdown",
   "metadata": {},
   "source": [
    "#### Conclusion : from the above graph it shows that group B has higher visits and revenue."
   ]
  },
  {
   "cell_type": "markdown",
   "metadata": {},
   "source": [
    "## Graph cumulative average order size by group:\n"
   ]
  },
  {
   "cell_type": "code",
   "execution_count": 28,
   "metadata": {
    "scrolled": true
   },
   "outputs": [
    {
     "data": {
      "image/png": "[encoded data removed]",
      "text/plain": [
       "<Figure size 432x288 with 1 Axes>"
      ]
     },
     "metadata": {
      "needs_background": "light"
     },
     "output_type": "display_data"
    }
   ],
   "source": [
    "Avg_order_group = orders.groupby('group').agg({'transactionId': 'count'})\n",
    "Avg_order_group.plot(kind='bar', title='Avg_order_size_by_group', ylabel='Revenue');"
   ]
  },
  {
   "cell_type": "code",
   "execution_count": 29,
   "metadata": {
    "scrolled": true
   },
   "outputs": [
    {
     "data": {
      "text/plain": [
       "Text(0.5, 1.0, 'Cumulative Avg. Orders Size Group A & B')"
      ]
     },
     "execution_count": 29,
     "metadata": {},
     "output_type": "execute_result"
    },
    {
     "data": {
      "image/png": "[encoded data removed]",
      "text/plain": [
       "<Figure size 432x288 with 1 Axes>"
      ]
     },
     "metadata": {
      "needs_background": "light"
     },
     "output_type": "display_data"
    }
   ],
   "source": [
    "plt.plot(cumulativeRevenueA['date'], cumulativeRevenueA['revenue']/cumulativeRevenueA['orders'], label='A')\n",
    "plt.plot(cumulativeRevenueB['date'], cumulativeRevenueB['revenue']/cumulativeRevenueB['orders'], label='B')\n",
    "plt.legend()\n",
    "plt.xticks(rotation=90)\n",
    "plt.title('Cumulative Avg. Orders Size Group A & B')"
   ]
  },
  {
   "cell_type": "markdown",
   "metadata": {},
   "source": [
    "### Conclusion :\n",
    "\n",
    "1. From the above graph it is obvious that group B has more average orders then group A."
   ]
  },
  {
   "cell_type": "markdown",
   "metadata": {},
   "source": [
    "### Graph the relative difference in cumulative average order size for group B compared with group A:"
   ]
  },
  {
   "cell_type": "code",
   "execution_count": 30,
   "metadata": {
    "scrolled": false
   },
   "outputs": [
    {
     "data": {
      "text/html": [
       "<div>\n",
       "<style scoped>\n",
       "    .dataframe tbody tr th:only-of-type {\n",
       "        vertical-align: middle;\n",
       "    }\n",
       "\n",
       "    .dataframe tbody tr th {\n",
       "        vertical-align: top;\n",
       "    }\n",
       "\n",
       "    .dataframe thead th {\n",
       "        text-align: right;\n",
       "    }\n",
       "</style>\n",
       "<table border=\"1\" class=\"dataframe\">\n",
       "  <thead>\n",
       "    <tr style=\"text-align: right;\">\n",
       "      <th></th>\n",
       "      <th>transactionId</th>\n",
       "      <th>visitorId</th>\n",
       "      <th>date</th>\n",
       "      <th>revenue</th>\n",
       "      <th>group</th>\n",
       "    </tr>\n",
       "  </thead>\n",
       "  <tbody>\n",
       "    <tr>\n",
       "      <th>0</th>\n",
       "      <td>3667963787</td>\n",
       "      <td>3312258926</td>\n",
       "      <td>2019-08-15</td>\n",
       "      <td>30.4</td>\n",
       "      <td>B</td>\n",
       "    </tr>\n",
       "    <tr>\n",
       "      <th>1</th>\n",
       "      <td>2804400009</td>\n",
       "      <td>3642806036</td>\n",
       "      <td>2019-08-15</td>\n",
       "      <td>15.2</td>\n",
       "      <td>B</td>\n",
       "    </tr>\n",
       "    <tr>\n",
       "      <th>3</th>\n",
       "      <td>3797467345</td>\n",
       "      <td>1196621759</td>\n",
       "      <td>2019-08-15</td>\n",
       "      <td>155.1</td>\n",
       "      <td>B</td>\n",
       "    </tr>\n",
       "    <tr>\n",
       "      <th>4</th>\n",
       "      <td>2282983706</td>\n",
       "      <td>2322279887</td>\n",
       "      <td>2019-08-15</td>\n",
       "      <td>40.5</td>\n",
       "      <td>B</td>\n",
       "    </tr>\n",
       "    <tr>\n",
       "      <th>5</th>\n",
       "      <td>182168103</td>\n",
       "      <td>935554773</td>\n",
       "      <td>2019-08-15</td>\n",
       "      <td>35.0</td>\n",
       "      <td>B</td>\n",
       "    </tr>\n",
       "  </tbody>\n",
       "</table>\n",
       "</div>"
      ],
      "text/plain": [
       "   transactionId   visitorId        date  revenue group\n",
       "0     3667963787  3312258926  2019-08-15     30.4     B\n",
       "1     2804400009  3642806036  2019-08-15     15.2     B\n",
       "3     3797467345  1196621759  2019-08-15    155.1     B\n",
       "4     2282983706  2322279887  2019-08-15     40.5     B\n",
       "5      182168103   935554773  2019-08-15     35.0     B"
      ]
     },
     "execution_count": 30,
     "metadata": {},
     "output_type": "execute_result"
    }
   ],
   "source": [
    "orders.head()"
   ]
  },
  {
   "cell_type": "code",
   "execution_count": 31,
   "metadata": {
    "scrolled": false
   },
   "outputs": [
    {
     "name": "stderr",
     "output_type": "stream",
     "text": [
      "/opt/conda/lib/python3.7/site-packages/matplotlib/cbook/__init__.py:1402: FutureWarning: Support for multi-dimensional indexing (e.g. `obj[:, None]`) is deprecated and will be removed in a future version.  Convert to a numpy array before indexing instead.\n",
      "  x[:, None]\n",
      "/opt/conda/lib/python3.7/site-packages/matplotlib/axes/_base.py:276: FutureWarning: Support for multi-dimensional indexing (e.g. `obj[:, None]`) is deprecated and will be removed in a future version.  Convert to a numpy array before indexing instead.\n",
      "  x = x[:, np.newaxis]\n",
      "/opt/conda/lib/python3.7/site-packages/matplotlib/axes/_base.py:278: FutureWarning: Support for multi-dimensional indexing (e.g. `obj[:, None]`) is deprecated and will be removed in a future version.  Convert to a numpy array before indexing instead.\n",
      "  y = y[:, np.newaxis]\n"
     ]
    },
    {
     "data": {
      "image/png": "[encoded data removed]",
      "text/plain": [
       "<Figure size 432x288 with 1 Axes>"
      ]
     },
     "metadata": {
      "needs_background": "light"
     },
     "output_type": "display_data"
    }
   ],
   "source": [
    "mergedCumulativeRevenue = cumulativeRevenueA.merge(cumulativeRevenueB, left_on='date', right_on='date', how='left', suffixes=['A', 'B'])\n",
    "\n",
    "plt.plot(mergedCumulativeRevenue['date'], (mergedCumulativeRevenue['revenueB']/mergedCumulativeRevenue['ordersB'])/(mergedCumulativeRevenue['revenueA']/mergedCumulativeRevenue['ordersA'])-1)\n",
    "\n",
    "\n",
    "plt.axhline(y=0, color='black', linestyle='--') \n",
    "plt.xticks(rotation=90)\n",
    "plt.xlabel('Date')\n",
    "plt.ylabel('Relative Diff B/A')\n",
    "plt.title('Relative diff. in cumulative Avg. order size b/w Group A & B');"
   ]
  },
  {
   "cell_type": "markdown",
   "metadata": {},
   "source": [
    "### Conclusion:\n",
    "\n",
    "we can see that group B relative difference shows approximately 20% growth in Avg. ordre sizes with group A."
   ]
  },
  {
   "cell_type": "markdown",
   "metadata": {},
   "source": [
    "### Calculate each group's conversion rate as the ratio of orders to the number of visits for each day, with Graph and Conclusion:"
   ]
  },
  {
   "cell_type": "code",
   "execution_count": 32,
   "metadata": {
    "scrolled": false
   },
   "outputs": [
    {
     "data": {
      "text/html": [
       "<div>\n",
       "<style scoped>\n",
       "    .dataframe tbody tr th:only-of-type {\n",
       "        vertical-align: middle;\n",
       "    }\n",
       "\n",
       "    .dataframe tbody tr th {\n",
       "        vertical-align: top;\n",
       "    }\n",
       "\n",
       "    .dataframe thead th {\n",
       "        text-align: right;\n",
       "    }\n",
       "</style>\n",
       "<table border=\"1\" class=\"dataframe\">\n",
       "  <thead>\n",
       "    <tr style=\"text-align: right;\">\n",
       "      <th></th>\n",
       "      <th>date</th>\n",
       "      <th>group</th>\n",
       "      <th>transactionId</th>\n",
       "      <th>visitorId</th>\n",
       "      <th>revenue</th>\n",
       "    </tr>\n",
       "  </thead>\n",
       "  <tbody>\n",
       "    <tr>\n",
       "      <th>55</th>\n",
       "      <td>2019-08-01</td>\n",
       "      <td>A</td>\n",
       "      <td>23</td>\n",
       "      <td>19</td>\n",
       "      <td>2266.6</td>\n",
       "    </tr>\n",
       "    <tr>\n",
       "      <th>66</th>\n",
       "      <td>2019-08-01</td>\n",
       "      <td>B</td>\n",
       "      <td>17</td>\n",
       "      <td>17</td>\n",
       "      <td>967.2</td>\n",
       "    </tr>\n",
       "    <tr>\n",
       "      <th>175</th>\n",
       "      <td>2019-08-02</td>\n",
       "      <td>A</td>\n",
       "      <td>42</td>\n",
       "      <td>36</td>\n",
       "      <td>3734.9</td>\n",
       "    </tr>\n",
       "    <tr>\n",
       "      <th>173</th>\n",
       "      <td>2019-08-02</td>\n",
       "      <td>B</td>\n",
       "      <td>40</td>\n",
       "      <td>39</td>\n",
       "      <td>3535.3</td>\n",
       "    </tr>\n",
       "    <tr>\n",
       "      <th>291</th>\n",
       "      <td>2019-08-03</td>\n",
       "      <td>A</td>\n",
       "      <td>66</td>\n",
       "      <td>60</td>\n",
       "      <td>5550.1</td>\n",
       "    </tr>\n",
       "  </tbody>\n",
       "</table>\n",
       "</div>"
      ],
      "text/plain": [
       "           date group  transactionId  visitorId  revenue\n",
       "55   2019-08-01     A             23         19   2266.6\n",
       "66   2019-08-01     B             17         17    967.2\n",
       "175  2019-08-02     A             42         36   3734.9\n",
       "173  2019-08-02     B             40         39   3535.3\n",
       "291  2019-08-03     A             66         60   5550.1"
      ]
     },
     "execution_count": 32,
     "metadata": {},
     "output_type": "execute_result"
    }
   ],
   "source": [
    "orderAggregate.head()"
   ]
  },
  {
   "cell_type": "code",
   "execution_count": 33,
   "metadata": {
    "scrolled": false
   },
   "outputs": [
    {
     "data": {
      "text/html": [
       "<div>\n",
       "<style scoped>\n",
       "    .dataframe tbody tr th:only-of-type {\n",
       "        vertical-align: middle;\n",
       "    }\n",
       "\n",
       "    .dataframe tbody tr th {\n",
       "        vertical-align: top;\n",
       "    }\n",
       "\n",
       "    .dataframe thead th {\n",
       "        text-align: right;\n",
       "    }\n",
       "</style>\n",
       "<table border=\"1\" class=\"dataframe\">\n",
       "  <thead>\n",
       "    <tr style=\"text-align: right;\">\n",
       "      <th></th>\n",
       "      <th>date</th>\n",
       "      <th>group</th>\n",
       "      <th>visits</th>\n",
       "    </tr>\n",
       "  </thead>\n",
       "  <tbody>\n",
       "    <tr>\n",
       "      <th>55</th>\n",
       "      <td>2019-08-01</td>\n",
       "      <td>A</td>\n",
       "      <td>719</td>\n",
       "    </tr>\n",
       "    <tr>\n",
       "      <th>66</th>\n",
       "      <td>2019-08-01</td>\n",
       "      <td>B</td>\n",
       "      <td>713</td>\n",
       "    </tr>\n",
       "    <tr>\n",
       "      <th>175</th>\n",
       "      <td>2019-08-02</td>\n",
       "      <td>A</td>\n",
       "      <td>1338</td>\n",
       "    </tr>\n",
       "    <tr>\n",
       "      <th>173</th>\n",
       "      <td>2019-08-02</td>\n",
       "      <td>B</td>\n",
       "      <td>1294</td>\n",
       "    </tr>\n",
       "    <tr>\n",
       "      <th>291</th>\n",
       "      <td>2019-08-03</td>\n",
       "      <td>A</td>\n",
       "      <td>1845</td>\n",
       "    </tr>\n",
       "  </tbody>\n",
       "</table>\n",
       "</div>"
      ],
      "text/plain": [
       "           date group  visits\n",
       "55   2019-08-01     A     719\n",
       "66   2019-08-01     B     713\n",
       "175  2019-08-02     A    1338\n",
       "173  2019-08-02     B    1294\n",
       "291  2019-08-03     A    1845"
      ]
     },
     "execution_count": 33,
     "metadata": {},
     "output_type": "execute_result"
    }
   ],
   "source": [
    "visitorAggregate.head()"
   ]
  },
  {
   "cell_type": "code",
   "execution_count": 36,
   "metadata": {
    "scrolled": false
   },
   "outputs": [
    {
     "data": {
      "text/html": [
       "<div>\n",
       "<style scoped>\n",
       "    .dataframe tbody tr th:only-of-type {\n",
       "        vertical-align: middle;\n",
       "    }\n",
       "\n",
       "    .dataframe tbody tr th {\n",
       "        vertical-align: top;\n",
       "    }\n",
       "\n",
       "    .dataframe thead th {\n",
       "        text-align: right;\n",
       "    }\n",
       "</style>\n",
       "<table border=\"1\" class=\"dataframe\">\n",
       "  <thead>\n",
       "    <tr style=\"text-align: right;\">\n",
       "      <th></th>\n",
       "      <th>date</th>\n",
       "      <th>group</th>\n",
       "      <th>orders</th>\n",
       "      <th>visitors</th>\n",
       "      <th>revenue</th>\n",
       "      <th>visits</th>\n",
       "      <th>conversion</th>\n",
       "    </tr>\n",
       "  </thead>\n",
       "  <tbody>\n",
       "    <tr>\n",
       "      <th>0</th>\n",
       "      <td>2019-08-01</td>\n",
       "      <td>A</td>\n",
       "      <td>23</td>\n",
       "      <td>19</td>\n",
       "      <td>2266.6</td>\n",
       "      <td>719</td>\n",
       "      <td>0.031989</td>\n",
       "    </tr>\n",
       "    <tr>\n",
       "      <th>1</th>\n",
       "      <td>2019-08-01</td>\n",
       "      <td>B</td>\n",
       "      <td>17</td>\n",
       "      <td>17</td>\n",
       "      <td>967.2</td>\n",
       "      <td>713</td>\n",
       "      <td>0.023843</td>\n",
       "    </tr>\n",
       "    <tr>\n",
       "      <th>2</th>\n",
       "      <td>2019-08-02</td>\n",
       "      <td>A</td>\n",
       "      <td>42</td>\n",
       "      <td>36</td>\n",
       "      <td>3734.9</td>\n",
       "      <td>1338</td>\n",
       "      <td>0.031390</td>\n",
       "    </tr>\n",
       "    <tr>\n",
       "      <th>3</th>\n",
       "      <td>2019-08-02</td>\n",
       "      <td>B</td>\n",
       "      <td>40</td>\n",
       "      <td>39</td>\n",
       "      <td>3535.3</td>\n",
       "      <td>1294</td>\n",
       "      <td>0.030912</td>\n",
       "    </tr>\n",
       "    <tr>\n",
       "      <th>4</th>\n",
       "      <td>2019-08-03</td>\n",
       "      <td>A</td>\n",
       "      <td>66</td>\n",
       "      <td>60</td>\n",
       "      <td>5550.1</td>\n",
       "      <td>1845</td>\n",
       "      <td>0.035772</td>\n",
       "    </tr>\n",
       "  </tbody>\n",
       "</table>\n",
       "</div>"
      ],
      "text/plain": [
       "         date group  orders  visitors  revenue  visits  conversion\n",
       "0  2019-08-01     A      23        19   2266.6     719    0.031989\n",
       "1  2019-08-01     B      17        17    967.2     713    0.023843\n",
       "2  2019-08-02     A      42        36   3734.9    1338    0.031390\n",
       "3  2019-08-02     B      40        39   3535.3    1294    0.030912\n",
       "4  2019-08-03     A      66        60   5550.1    1845    0.035772"
      ]
     },
     "execution_count": 36,
     "metadata": {},
     "output_type": "execute_result"
    }
   ],
   "source": [
    "cumulativeData['conversion'] = cumulativeData['orders'] / cumulativeData['visits']\n",
    "cumulativeData.head()"
   ]
  },
  {
   "cell_type": "code",
   "execution_count": 38,
   "metadata": {},
   "outputs": [],
   "source": [
    "cumulativeDataA = cumulativeData[cumulativeData['group'] == 'A']\n",
    "cumulativeDataB = cumulativeData[cumulativeData['group'] == 'B']\n"
   ]
  },
  {
   "cell_type": "code",
   "execution_count": 39,
   "metadata": {
    "scrolled": false
   },
   "outputs": [
    {
     "name": "stderr",
     "output_type": "stream",
     "text": [
      "/opt/conda/lib/python3.7/site-packages/matplotlib/cbook/__init__.py:1402: FutureWarning: Support for multi-dimensional indexing (e.g. `obj[:, None]`) is deprecated and will be removed in a future version.  Convert to a numpy array before indexing instead.\n",
      "  x[:, None]\n",
      "/opt/conda/lib/python3.7/site-packages/matplotlib/axes/_base.py:276: FutureWarning: Support for multi-dimensional indexing (e.g. `obj[:, None]`) is deprecated and will be removed in a future version.  Convert to a numpy array before indexing instead.\n",
      "  x = x[:, np.newaxis]\n",
      "/opt/conda/lib/python3.7/site-packages/matplotlib/axes/_base.py:278: FutureWarning: Support for multi-dimensional indexing (e.g. `obj[:, None]`) is deprecated and will be removed in a future version.  Convert to a numpy array before indexing instead.\n",
      "  y = y[:, np.newaxis]\n"
     ]
    },
    {
     "data": {
      "image/png": "[encoded data removed]",
      "text/plain": [
       "<Figure size 432x288 with 1 Axes>"
      ]
     },
     "metadata": {
      "needs_background": "light"
     },
     "output_type": "display_data"
    }
   ],
   "source": [
    "plt.plot(cumulativeDataA['date'], cumulativeDataA['conversion'], label='A')\n",
    "plt.plot(cumulativeDataB['date'], cumulativeDataB['conversion'], label='B')\n",
    "plt.title('Group A & B Conversions')\n",
    "plt.ylabel('Conversions')\n",
    "plt.xticks(rotation=90)\n",
    "plt.legend()\n",
    "plt.axis([\"2019-08-01\", '2019-08-31', -0, 0.06]);"
   ]
  },
  {
   "cell_type": "markdown",
   "metadata": {},
   "source": [
    "### Conclusion:\n",
    "\n",
    "Conversion for group A slightly decline and then stabilizing on the other group B convesion start incline and then stabilize too."
   ]
  },
  {
   "cell_type": "code",
   "execution_count": 41,
   "metadata": {
    "scrolled": true
   },
   "outputs": [
    {
     "data": {
      "text/plain": [
       "([0,\n",
       "  1,\n",
       "  2,\n",
       "  3,\n",
       "  4,\n",
       "  5,\n",
       "  6,\n",
       "  7,\n",
       "  8,\n",
       "  9,\n",
       "  10,\n",
       "  11,\n",
       "  12,\n",
       "  13,\n",
       "  14,\n",
       "  15,\n",
       "  16,\n",
       "  17,\n",
       "  18,\n",
       "  19,\n",
       "  20,\n",
       "  21,\n",
       "  22,\n",
       "  23,\n",
       "  24,\n",
       "  25,\n",
       "  26,\n",
       "  27,\n",
       "  28,\n",
       "  29,\n",
       "  30],\n",
       " <a list of 31 Text xticklabel objects>)"
      ]
     },
     "execution_count": 41,
     "metadata": {},
     "output_type": "execute_result"
    },
    {
     "data": {
      "image/png": "[encoded data removed]",
      "text/plain": [
       "<Figure size 432x288 with 1 Axes>"
      ]
     },
     "metadata": {
      "needs_background": "light"
     },
     "output_type": "display_data"
    }
   ],
   "source": [
    "mergedCumulativeConversions = cumulativeDataA[['date','conversion']].merge(cumulativeDataB[['date','conversion']], left_on='date', right_on='date', how='left', suffixes=['A', 'B'])\n",
    "\n",
    "plt.plot(mergedCumulativeConversions['date'], mergedCumulativeConversions['conversionB']/mergedCumulativeConversions['conversionA']-1, label=\"Relative gain in conversion in group B as opposed to group A\")\n",
    "plt.legend()\n",
    "\n",
    "plt.axhline(y=0, color='black', linestyle='--')\n",
    "plt.axhline(y=-0.1, color='grey', linestyle='--')\n",
    "plt.axis([\"2019-08-01\", '2019-08-31', -0.6, 0.6]) \n",
    "plt.ylabel('revenue')\n",
    "plt.xticks(rotation=90)"
   ]
  },
  {
   "cell_type": "code",
   "execution_count": 42,
   "metadata": {},
   "outputs": [
    {
     "data": {
      "text/html": [
       "<div>\n",
       "<style scoped>\n",
       "    .dataframe tbody tr th:only-of-type {\n",
       "        vertical-align: middle;\n",
       "    }\n",
       "\n",
       "    .dataframe tbody tr th {\n",
       "        vertical-align: top;\n",
       "    }\n",
       "\n",
       "    .dataframe thead th {\n",
       "        text-align: right;\n",
       "    }\n",
       "</style>\n",
       "<table border=\"1\" class=\"dataframe\">\n",
       "  <thead>\n",
       "    <tr style=\"text-align: right;\">\n",
       "      <th></th>\n",
       "      <th>date</th>\n",
       "      <th>conversionA</th>\n",
       "      <th>conversionB</th>\n",
       "    </tr>\n",
       "  </thead>\n",
       "  <tbody>\n",
       "    <tr>\n",
       "      <th>0</th>\n",
       "      <td>2019-08-01</td>\n",
       "      <td>0.031989</td>\n",
       "      <td>0.023843</td>\n",
       "    </tr>\n",
       "    <tr>\n",
       "      <th>1</th>\n",
       "      <td>2019-08-02</td>\n",
       "      <td>0.031390</td>\n",
       "      <td>0.030912</td>\n",
       "    </tr>\n",
       "    <tr>\n",
       "      <th>2</th>\n",
       "      <td>2019-08-03</td>\n",
       "      <td>0.035772</td>\n",
       "      <td>0.029950</td>\n",
       "    </tr>\n",
       "    <tr>\n",
       "      <th>3</th>\n",
       "      <td>2019-08-04</td>\n",
       "      <td>0.030055</td>\n",
       "      <td>0.026428</td>\n",
       "    </tr>\n",
       "    <tr>\n",
       "      <th>4</th>\n",
       "      <td>2019-08-05</td>\n",
       "      <td>0.029837</td>\n",
       "      <td>0.027134</td>\n",
       "    </tr>\n",
       "  </tbody>\n",
       "</table>\n",
       "</div>"
      ],
      "text/plain": [
       "         date  conversionA  conversionB\n",
       "0  2019-08-01     0.031989     0.023843\n",
       "1  2019-08-02     0.031390     0.030912\n",
       "2  2019-08-03     0.035772     0.029950\n",
       "3  2019-08-04     0.030055     0.026428\n",
       "4  2019-08-05     0.029837     0.027134"
      ]
     },
     "execution_count": 42,
     "metadata": {},
     "output_type": "execute_result"
    }
   ],
   "source": [
    "mergedCumulativeConversions.head()"
   ]
  },
  {
   "cell_type": "markdown",
   "metadata": {},
   "source": [
    "### Conclusion:\n",
    "\n",
    "At the begining the group B was legging behind but then grwoing gradually."
   ]
  },
  {
   "cell_type": "markdown",
   "metadata": {},
   "source": [
    "## Plot a scatter chart of the number of orders per user. Make conclusions:"
   ]
  },
  {
   "cell_type": "code",
   "execution_count": 43,
   "metadata": {},
   "outputs": [
    {
     "data": {
      "text/html": [
       "<div>\n",
       "<style scoped>\n",
       "    .dataframe tbody tr th:only-of-type {\n",
       "        vertical-align: middle;\n",
       "    }\n",
       "\n",
       "    .dataframe tbody tr th {\n",
       "        vertical-align: top;\n",
       "    }\n",
       "\n",
       "    .dataframe thead th {\n",
       "        text-align: right;\n",
       "    }\n",
       "</style>\n",
       "<table border=\"1\" class=\"dataframe\">\n",
       "  <thead>\n",
       "    <tr style=\"text-align: right;\">\n",
       "      <th></th>\n",
       "      <th>transactionId</th>\n",
       "      <th>visitorId</th>\n",
       "      <th>date</th>\n",
       "      <th>revenue</th>\n",
       "      <th>group</th>\n",
       "    </tr>\n",
       "  </thead>\n",
       "  <tbody>\n",
       "    <tr>\n",
       "      <th>0</th>\n",
       "      <td>3667963787</td>\n",
       "      <td>3312258926</td>\n",
       "      <td>2019-08-15</td>\n",
       "      <td>30.4</td>\n",
       "      <td>B</td>\n",
       "    </tr>\n",
       "    <tr>\n",
       "      <th>1</th>\n",
       "      <td>2804400009</td>\n",
       "      <td>3642806036</td>\n",
       "      <td>2019-08-15</td>\n",
       "      <td>15.2</td>\n",
       "      <td>B</td>\n",
       "    </tr>\n",
       "    <tr>\n",
       "      <th>3</th>\n",
       "      <td>3797467345</td>\n",
       "      <td>1196621759</td>\n",
       "      <td>2019-08-15</td>\n",
       "      <td>155.1</td>\n",
       "      <td>B</td>\n",
       "    </tr>\n",
       "    <tr>\n",
       "      <th>4</th>\n",
       "      <td>2282983706</td>\n",
       "      <td>2322279887</td>\n",
       "      <td>2019-08-15</td>\n",
       "      <td>40.5</td>\n",
       "      <td>B</td>\n",
       "    </tr>\n",
       "    <tr>\n",
       "      <th>5</th>\n",
       "      <td>182168103</td>\n",
       "      <td>935554773</td>\n",
       "      <td>2019-08-15</td>\n",
       "      <td>35.0</td>\n",
       "      <td>B</td>\n",
       "    </tr>\n",
       "  </tbody>\n",
       "</table>\n",
       "</div>"
      ],
      "text/plain": [
       "   transactionId   visitorId        date  revenue group\n",
       "0     3667963787  3312258926  2019-08-15     30.4     B\n",
       "1     2804400009  3642806036  2019-08-15     15.2     B\n",
       "3     3797467345  1196621759  2019-08-15    155.1     B\n",
       "4     2282983706  2322279887  2019-08-15     40.5     B\n",
       "5      182168103   935554773  2019-08-15     35.0     B"
      ]
     },
     "execution_count": 43,
     "metadata": {},
     "output_type": "execute_result"
    }
   ],
   "source": [
    "orders.head()"
   ]
  },
  {
   "cell_type": "code",
   "execution_count": 44,
   "metadata": {},
   "outputs": [],
   "source": [
    "ordersbyusers = (orders.drop (['group', 'revenue', 'date'], axis=1)\n",
    "                  .groupby('visitorId', as_index=False)\n",
    "                  .agg({'transactionId' : pd.Series.nunique}))\n",
    "                  "
   ]
  },
  {
   "cell_type": "code",
   "execution_count": 45,
   "metadata": {},
   "outputs": [],
   "source": [
    "ordersbyusers.columns = ['visitorId','transactionId']"
   ]
  },
  {
   "cell_type": "code",
   "execution_count": 46,
   "metadata": {
    "scrolled": true
   },
   "outputs": [
    {
     "name": "stdout",
     "output_type": "stream",
     "text": [
      "      visitorId  transactionId\n",
      "908  3967698036              3\n",
      "55    249864742              3\n",
      "478  2108163459              3\n",
      "687  2988190573              3\n",
      "890  3908431265              3\n",
      "138   611059232              3\n",
      "632  2742574263              3\n",
      "157   678354126              2\n",
      "323  1404560065              2\n",
      "452  1985475298              2\n"
     ]
    }
   ],
   "source": [
    "print(ordersbyusers.sort_values(by='transactionId', ascending=False).head(10))"
   ]
  },
  {
   "cell_type": "code",
   "execution_count": 47,
   "metadata": {},
   "outputs": [],
   "source": [
    "x_values = pd.Series(range(0, len(ordersbyusers['transactionId'])))\n"
   ]
  },
  {
   "cell_type": "code",
   "execution_count": 48,
   "metadata": {},
   "outputs": [
    {
     "data": {
      "image/png": "[encoded data removed]",
      "text/plain": [
       "<Figure size 432x288 with 1 Axes>"
      ]
     },
     "metadata": {
      "needs_background": "light"
     },
     "output_type": "display_data"
    }
   ],
   "source": [
    "plt.scatter(x_values, ordersbyusers['transactionId'])\n",
    "plt.ylabel('No_of_orders')\n",
    "plt.xlabel('Revenue')\n",
    "plt.title('Orders_by_users');"
   ]
  },
  {
   "cell_type": "markdown",
   "metadata": {},
   "source": [
    "### Conclusion :\n",
    "\n",
    "it shows that we have a lot of users with two to four orders exactly share we do not know, we will see the percentile."
   ]
  },
  {
   "cell_type": "markdown",
   "metadata": {},
   "source": [
    "### Calculate the 95th and 99th percentiles for the number of orders per user. Define the point at which a data point becomes an anomaly: "
   ]
  },
  {
   "cell_type": "code",
   "execution_count": 49,
   "metadata": {},
   "outputs": [
    {
     "name": "stdout",
     "output_type": "stream",
     "text": [
      "[1. 2.]\n"
     ]
    }
   ],
   "source": [
    "print(np.percentile(ordersbyusers['transactionId'], [95,99]))"
   ]
  },
  {
   "cell_type": "markdown",
   "metadata": {},
   "source": [
    "### Conclusion: \n",
    "\n",
    "No more then 5% of users place more then 2 orders, and 10% of users more then 1 orders, it would be resonabe to set limit 2 to 3 orders per users and filter anomalies on that basis."
   ]
  },
  {
   "cell_type": "markdown",
   "metadata": {},
   "source": [
    "## Plot a scatter chart of order prices. Make conclusions: "
   ]
  },
  {
   "cell_type": "code",
   "execution_count": 50,
   "metadata": {},
   "outputs": [
    {
     "data": {
      "text/html": [
       "<div>\n",
       "<style scoped>\n",
       "    .dataframe tbody tr th:only-of-type {\n",
       "        vertical-align: middle;\n",
       "    }\n",
       "\n",
       "    .dataframe tbody tr th {\n",
       "        vertical-align: top;\n",
       "    }\n",
       "\n",
       "    .dataframe thead th {\n",
       "        text-align: right;\n",
       "    }\n",
       "</style>\n",
       "<table border=\"1\" class=\"dataframe\">\n",
       "  <thead>\n",
       "    <tr style=\"text-align: right;\">\n",
       "      <th></th>\n",
       "      <th>transactionId</th>\n",
       "      <th>visitorId</th>\n",
       "      <th>date</th>\n",
       "      <th>revenue</th>\n",
       "      <th>group</th>\n",
       "    </tr>\n",
       "  </thead>\n",
       "  <tbody>\n",
       "    <tr>\n",
       "      <th>0</th>\n",
       "      <td>3667963787</td>\n",
       "      <td>3312258926</td>\n",
       "      <td>2019-08-15</td>\n",
       "      <td>30.4</td>\n",
       "      <td>B</td>\n",
       "    </tr>\n",
       "    <tr>\n",
       "      <th>1</th>\n",
       "      <td>2804400009</td>\n",
       "      <td>3642806036</td>\n",
       "      <td>2019-08-15</td>\n",
       "      <td>15.2</td>\n",
       "      <td>B</td>\n",
       "    </tr>\n",
       "    <tr>\n",
       "      <th>3</th>\n",
       "      <td>3797467345</td>\n",
       "      <td>1196621759</td>\n",
       "      <td>2019-08-15</td>\n",
       "      <td>155.1</td>\n",
       "      <td>B</td>\n",
       "    </tr>\n",
       "    <tr>\n",
       "      <th>4</th>\n",
       "      <td>2282983706</td>\n",
       "      <td>2322279887</td>\n",
       "      <td>2019-08-15</td>\n",
       "      <td>40.5</td>\n",
       "      <td>B</td>\n",
       "    </tr>\n",
       "    <tr>\n",
       "      <th>5</th>\n",
       "      <td>182168103</td>\n",
       "      <td>935554773</td>\n",
       "      <td>2019-08-15</td>\n",
       "      <td>35.0</td>\n",
       "      <td>B</td>\n",
       "    </tr>\n",
       "  </tbody>\n",
       "</table>\n",
       "</div>"
      ],
      "text/plain": [
       "   transactionId   visitorId        date  revenue group\n",
       "0     3667963787  3312258926  2019-08-15     30.4     B\n",
       "1     2804400009  3642806036  2019-08-15     15.2     B\n",
       "3     3797467345  1196621759  2019-08-15    155.1     B\n",
       "4     2282983706  2322279887  2019-08-15     40.5     B\n",
       "5      182168103   935554773  2019-08-15     35.0     B"
      ]
     },
     "execution_count": 50,
     "metadata": {},
     "output_type": "execute_result"
    }
   ],
   "source": [
    "orders.head()"
   ]
  },
  {
   "cell_type": "code",
   "execution_count": 51,
   "metadata": {},
   "outputs": [
    {
     "name": "stdout",
     "output_type": "stream",
     "text": [
      "         userId  orders\n",
      "908  3967698036       3\n",
      "55    249864742       3\n",
      "478  2108163459       3\n",
      "687  2988190573       3\n",
      "890  3908431265       3\n",
      "138   611059232       3\n",
      "632  2742574263       3\n",
      "157   678354126       2\n",
      "323  1404560065       2\n",
      "452  1985475298       2\n"
     ]
    }
   ],
   "source": [
    "ordersbyusersId = orders.drop(['group' , 'revenue' , 'date'], axis=1)\\\n",
    ".groupby('visitorId', as_index=False).agg({'transactionId' : pd.Series.nunique})\n",
    "\n",
    "ordersbyusersId.columns = ['userId', 'orders']\n",
    "\n",
    "print(ordersbyusersId.sort_values(by='orders',ascending=False).head(10))"
   ]
  },
  {
   "cell_type": "code",
   "execution_count": 52,
   "metadata": {},
   "outputs": [
    {
     "data": {
      "image/png": "[encoded data removed]",
      "text/plain": [
       "<Figure size 432x288 with 1 Axes>"
      ]
     },
     "metadata": {
      "needs_background": "light"
     },
     "output_type": "display_data"
    }
   ],
   "source": [
    "plt.hist(orders['revenue']);"
   ]
  },
  {
   "cell_type": "code",
   "execution_count": 53,
   "metadata": {
    "scrolled": true
   },
   "outputs": [
    {
     "data": {
      "text/plain": [
       "Text(0.5, 1.0, 'order_prices')"
      ]
     },
     "execution_count": 53,
     "metadata": {},
     "output_type": "execute_result"
    },
    {
     "data": {
      "image/png": "[encoded data removed]",
      "text/plain": [
       "<Figure size 432x288 with 1 Axes>"
      ]
     },
     "metadata": {
      "needs_background": "light"
     },
     "output_type": "display_data"
    }
   ],
   "source": [
    "order_price = pd.Series(range(0, len(orders['revenue'])))\n",
    "plt.scatter(order_price, orders['revenue']);\n",
    "(plt.ylim(0, 1000))\n",
    "plt.ylabel('revenue')\n",
    "plt.xlabel('order_index')\n",
    "plt.title('order_prices')"
   ]
  },
  {
   "cell_type": "markdown",
   "metadata": {},
   "source": [
    "### Conclusion :\n",
    "\n",
    "There are users with 2,3 orders That's more than a regular user would place in a week.\n",
    "\n",
    "The majority of customers placed only one order. However, a significant share placed two to three orders."
   ]
  },
  {
   "cell_type": "markdown",
   "metadata": {},
   "source": [
    "## Calculate the 95th and 99th percentiles of order prices:"
   ]
  },
  {
   "cell_type": "code",
   "execution_count": 54,
   "metadata": {},
   "outputs": [],
   "source": [
    "# print(np.percentile(ordersbyusersId['orders'],[95,99]))"
   ]
  },
  {
   "cell_type": "code",
   "execution_count": 55,
   "metadata": {},
   "outputs": [
    {
     "name": "stdout",
     "output_type": "stream",
     "text": [
      "[414.275 830.3  ]\n"
     ]
    }
   ],
   "source": [
    "print(np.percentile(orders['revenue'],[95,99]))"
   ]
  },
  {
   "cell_type": "code",
   "execution_count": 56,
   "metadata": {},
   "outputs": [
    {
     "data": {
      "image/png": "[encoded data removed]",
      "text/plain": [
       "<Figure size 432x288 with 1 Axes>"
      ]
     },
     "metadata": {
      "needs_background": "light"
     },
     "output_type": "display_data"
    }
   ],
   "source": [
    "# plt.boxplot(orderId_scatter, ordersbyusers['transactionId'])\n",
    "# plt.title('Orders_by_users');\n",
    "\n",
    "plt.boxplot(orders[orders['revenue'] < 2500]['revenue'])\n",
    "plt.title('Order_Revenue')\n",
    "plt.ylabel('Revenue')\n",
    "plt.show()"
   ]
  },
  {
   "cell_type": "markdown",
   "metadata": {},
   "source": [
    "### Conclusion:\n",
    "\n",
    "\n",
    "No more than 5% of orders cost more than $414.2,  \n",
    "\n",
    "And no more than 1% cost more than $830.3.\n",
    "\n",
    "There are a lot of users with two to three orders."
   ]
  },
  {
   "cell_type": "markdown",
   "metadata": {},
   "source": [
    "## Find the statistical significance of the difference in conversion between the groups using the raw data:"
   ]
  },
  {
   "cell_type": "code",
   "execution_count": 57,
   "metadata": {},
   "outputs": [
    {
     "data": {
      "text/html": [
       "<div>\n",
       "<style scoped>\n",
       "    .dataframe tbody tr th:only-of-type {\n",
       "        vertical-align: middle;\n",
       "    }\n",
       "\n",
       "    .dataframe tbody tr th {\n",
       "        vertical-align: top;\n",
       "    }\n",
       "\n",
       "    .dataframe thead th {\n",
       "        text-align: right;\n",
       "    }\n",
       "</style>\n",
       "<table border=\"1\" class=\"dataframe\">\n",
       "  <thead>\n",
       "    <tr style=\"text-align: right;\">\n",
       "      <th></th>\n",
       "      <th>transactionId</th>\n",
       "      <th>visitorId</th>\n",
       "      <th>date</th>\n",
       "      <th>revenue</th>\n",
       "      <th>group</th>\n",
       "    </tr>\n",
       "  </thead>\n",
       "  <tbody>\n",
       "    <tr>\n",
       "      <th>0</th>\n",
       "      <td>3667963787</td>\n",
       "      <td>3312258926</td>\n",
       "      <td>2019-08-15</td>\n",
       "      <td>30.4</td>\n",
       "      <td>B</td>\n",
       "    </tr>\n",
       "    <tr>\n",
       "      <th>1</th>\n",
       "      <td>2804400009</td>\n",
       "      <td>3642806036</td>\n",
       "      <td>2019-08-15</td>\n",
       "      <td>15.2</td>\n",
       "      <td>B</td>\n",
       "    </tr>\n",
       "    <tr>\n",
       "      <th>3</th>\n",
       "      <td>3797467345</td>\n",
       "      <td>1196621759</td>\n",
       "      <td>2019-08-15</td>\n",
       "      <td>155.1</td>\n",
       "      <td>B</td>\n",
       "    </tr>\n",
       "    <tr>\n",
       "      <th>4</th>\n",
       "      <td>2282983706</td>\n",
       "      <td>2322279887</td>\n",
       "      <td>2019-08-15</td>\n",
       "      <td>40.5</td>\n",
       "      <td>B</td>\n",
       "    </tr>\n",
       "    <tr>\n",
       "      <th>5</th>\n",
       "      <td>182168103</td>\n",
       "      <td>935554773</td>\n",
       "      <td>2019-08-15</td>\n",
       "      <td>35.0</td>\n",
       "      <td>B</td>\n",
       "    </tr>\n",
       "  </tbody>\n",
       "</table>\n",
       "</div>"
      ],
      "text/plain": [
       "   transactionId   visitorId        date  revenue group\n",
       "0     3667963787  3312258926  2019-08-15     30.4     B\n",
       "1     2804400009  3642806036  2019-08-15     15.2     B\n",
       "3     3797467345  1196621759  2019-08-15    155.1     B\n",
       "4     2282983706  2322279887  2019-08-15     40.5     B\n",
       "5      182168103   935554773  2019-08-15     35.0     B"
      ]
     },
     "execution_count": 57,
     "metadata": {},
     "output_type": "execute_result"
    }
   ],
   "source": [
    "  orders.head()"
   ]
  },
  {
   "cell_type": "code",
   "execution_count": 58,
   "metadata": {},
   "outputs": [],
   "source": [
    "orderbyusersA = ( orders[orders['group'] =='A']\\\n",
    "                 .groupby('visitorId', as_index=False).agg({'transactionId': pd.Series.nunique}))\n",
    "orderbyusersA.columns = ['visitorId','orders']\n",
    "\n",
    "orderbyusersB = ( orders[orders['group'] =='B']\\\n",
    "                 .groupby('visitorId', as_index=False).agg({'transactionId': pd.Series.nunique}))\n",
    "orderbyusersB.columns = ['visitorId','orders']"
   ]
  },
  {
   "cell_type": "code",
   "execution_count": 59,
   "metadata": {},
   "outputs": [],
   "source": [
    "sampleA = pd.concat([orderbyusersA['orders'],pd.Series(0, index=np.arange(visits[visits['group']=='A']['visits'].sum() - len(orderbyusersA['orders'])), name='orders')],axis=0)\n",
    "sampleB = pd.concat([orderbyusersB['orders'],pd.Series(0, index=np.arange(visits[visits['group']=='B']['visits'].sum() - len(orderbyusersB['orders'])), name='orders')],axis=0)"
   ]
  },
  {
   "cell_type": "code",
   "execution_count": 60,
   "metadata": {},
   "outputs": [
    {
     "name": "stdout",
     "output_type": "stream",
     "text": [
      "0.006\n"
     ]
    }
   ],
   "source": [
    "print('{0:.3f}'.format(stats.mannwhitneyu(sampleA, sampleB)[1]))"
   ]
  },
  {
   "cell_type": "code",
   "execution_count": 61,
   "metadata": {},
   "outputs": [
    {
     "name": "stdout",
     "output_type": "stream",
     "text": [
      "0.160\n"
     ]
    }
   ],
   "source": [
    "print('{0:.3f}'.format(sampleB.mean() / sampleA.mean()-1))"
   ]
  },
  {
   "cell_type": "code",
   "execution_count": 62,
   "metadata": {},
   "outputs": [
    {
     "data": {
      "text/plain": [
       "'1.4.1'"
      ]
     },
     "execution_count": 62,
     "metadata": {},
     "output_type": "execute_result"
    }
   ],
   "source": [
    "#Reviewer's code\n",
    "from scipy import stats as st\n",
    "import random\n",
    "import scipy\n",
    "\n",
    "scipy.__version__"
   ]
  },
  {
   "cell_type": "markdown",
   "metadata": {},
   "source": [
    "### Testing Hypothesis:\n",
    "\n",
    "**Null hypothesis H₀ The difference in conversion between the groups A and B is not statistically significant.**\n",
    "\n",
    "**Alternative hypothesis H₁ The difference in conversion between the groups A and B is statistically significant.**\n",
    "\n",
    "**Alpha I choose 5% , critical statistical significance level.**"
   ]
  },
  {
   "cell_type": "code",
   "execution_count": 63,
   "metadata": {},
   "outputs": [
    {
     "name": "stdout",
     "output_type": "stream",
     "text": [
      "0.027\n"
     ]
    }
   ],
   "source": [
    "groupA_rev =  cumulativeDataA['revenue']\n",
    "groupA_mean = cumulativeDataA['conversion'].mean()\n",
    "print(\"{:0.3f}\".format(groupA_mean))"
   ]
  },
  {
   "cell_type": "code",
   "execution_count": 64,
   "metadata": {},
   "outputs": [
    {
     "name": "stdout",
     "output_type": "stream",
     "text": [
      "0.029\n"
     ]
    }
   ],
   "source": [
    "groupB_rev =  cumulativeDataB['revenue']\n",
    "groupB_mean = cumulativeDataB['conversion'].mean()\n",
    "print('{0:.3f}'.format(groupB_mean))"
   ]
  },
  {
   "cell_type": "markdown",
   "metadata": {},
   "source": [
    "### Conclusion:\n",
    "\n",
    "Here we can see that the group A conversion mean is not equal to gorup B conversion mean, its mean reject the Null hypothesis now we have to measure their significance level."
   ]
  },
  {
   "cell_type": "code",
   "execution_count": 65,
   "metadata": {},
   "outputs": [
    {
     "name": "stdout",
     "output_type": "stream",
     "text": [
      "Size of Random Sample =  30\n"
     ]
    }
   ],
   "source": [
    "sample_set = random.randint(30, len(groupA_rev))\n",
    "print('Size of Random Sample = ', sample_set)\n",
    "\n",
    "sample_set_A = cumulativeDataA['revenue'].sample(sample_set)\n",
    "sample_set_B = cumulativeDataB['revenue'].sample(sample_set)\n",
    "\n",
    "\n",
    "alpha = 0.05 # level of significance"
   ]
  },
  {
   "cell_type": "markdown",
   "metadata": {},
   "source": [
    "### With Equal Variance = True"
   ]
  },
  {
   "cell_type": "code",
   "execution_count": 66,
   "metadata": {},
   "outputs": [
    {
     "name": "stdout",
     "output_type": "stream",
     "text": [
      "p-value:  0.01681242444123124\n",
      "We reject the null hypothesis\n"
     ]
    }
   ],
   "source": [
    "results = st.ttest_ind(\n",
    "        sample_set_A, \n",
    "        sample_set_B,\n",
    "        equal_var=True)\n",
    "\n",
    "\n",
    "print('p-value: ', results.pvalue)\n",
    "\n",
    "if (results.pvalue < alpha):\n",
    "        print(\"We reject the null hypothesis\")\n",
    "else:\n",
    "        print(\"We can't reject the null hypothesis\") "
   ]
  },
  {
   "cell_type": "markdown",
   "metadata": {},
   "source": [
    "### With Equal Variance = False"
   ]
  },
  {
   "cell_type": "code",
   "execution_count": 67,
   "metadata": {},
   "outputs": [
    {
     "name": "stdout",
     "output_type": "stream",
     "text": [
      "p-value 0.017465290790689245\n",
      "we reject the null hypothesis\n"
     ]
    }
   ],
   "source": [
    "results = st.ttest_ind(sample_set_A, sample_set_B , equal_var = False)\n",
    "\n",
    "print('p-value', results.pvalue)\n",
    "\n",
    "if (results.pvalue < alpha):\n",
    "    print('we reject the null hypothesis')\n",
    "else:\n",
    "    print('we can not reject the null hypothesis')"
   ]
  },
  {
   "cell_type": "markdown",
   "metadata": {},
   "source": [
    "### Conclusion:\n",
    "\n",
    "Here we can see that p_value is less then 5% so we reject the null hypothesis and accept the alternative hypothesis. Its mean the difference between the conversion group are statistically significant."
   ]
  },
  {
   "cell_type": "markdown",
   "metadata": {},
   "source": [
    "### Conclusion:\n",
    "\n",
    "Based on the raw data, there is a difference between groups A and B.\n",
    "\n",
    "That there's  a statistically significant difference in conversion between the groups. But the relative loss of group B is 16.0% (the second row of the output)\n",
    "\n"
   ]
  },
  {
   "cell_type": "markdown",
   "metadata": {},
   "source": [
    "### Find the statistical significance of the difference in average order size between the groups using the raw data:"
   ]
  },
  {
   "cell_type": "code",
   "execution_count": 68,
   "metadata": {},
   "outputs": [
    {
     "data": {
      "text/html": [
       "<div>\n",
       "<style scoped>\n",
       "    .dataframe tbody tr th:only-of-type {\n",
       "        vertical-align: middle;\n",
       "    }\n",
       "\n",
       "    .dataframe tbody tr th {\n",
       "        vertical-align: top;\n",
       "    }\n",
       "\n",
       "    .dataframe thead th {\n",
       "        text-align: right;\n",
       "    }\n",
       "</style>\n",
       "<table border=\"1\" class=\"dataframe\">\n",
       "  <thead>\n",
       "    <tr style=\"text-align: right;\">\n",
       "      <th></th>\n",
       "      <th>transactionId</th>\n",
       "      <th>visitorId</th>\n",
       "      <th>date</th>\n",
       "      <th>revenue</th>\n",
       "      <th>group</th>\n",
       "    </tr>\n",
       "  </thead>\n",
       "  <tbody>\n",
       "    <tr>\n",
       "      <th>0</th>\n",
       "      <td>3667963787</td>\n",
       "      <td>3312258926</td>\n",
       "      <td>2019-08-15</td>\n",
       "      <td>30.4</td>\n",
       "      <td>B</td>\n",
       "    </tr>\n",
       "    <tr>\n",
       "      <th>1</th>\n",
       "      <td>2804400009</td>\n",
       "      <td>3642806036</td>\n",
       "      <td>2019-08-15</td>\n",
       "      <td>15.2</td>\n",
       "      <td>B</td>\n",
       "    </tr>\n",
       "    <tr>\n",
       "      <th>3</th>\n",
       "      <td>3797467345</td>\n",
       "      <td>1196621759</td>\n",
       "      <td>2019-08-15</td>\n",
       "      <td>155.1</td>\n",
       "      <td>B</td>\n",
       "    </tr>\n",
       "    <tr>\n",
       "      <th>4</th>\n",
       "      <td>2282983706</td>\n",
       "      <td>2322279887</td>\n",
       "      <td>2019-08-15</td>\n",
       "      <td>40.5</td>\n",
       "      <td>B</td>\n",
       "    </tr>\n",
       "    <tr>\n",
       "      <th>5</th>\n",
       "      <td>182168103</td>\n",
       "      <td>935554773</td>\n",
       "      <td>2019-08-15</td>\n",
       "      <td>35.0</td>\n",
       "      <td>B</td>\n",
       "    </tr>\n",
       "  </tbody>\n",
       "</table>\n",
       "</div>"
      ],
      "text/plain": [
       "   transactionId   visitorId        date  revenue group\n",
       "0     3667963787  3312258926  2019-08-15     30.4     B\n",
       "1     2804400009  3642806036  2019-08-15     15.2     B\n",
       "3     3797467345  1196621759  2019-08-15    155.1     B\n",
       "4     2282983706  2322279887  2019-08-15     40.5     B\n",
       "5      182168103   935554773  2019-08-15     35.0     B"
      ]
     },
     "execution_count": 68,
     "metadata": {},
     "output_type": "execute_result"
    }
   ],
   "source": [
    "orders.head()"
   ]
  },
  {
   "cell_type": "code",
   "execution_count": 69,
   "metadata": {},
   "outputs": [
    {
     "name": "stdout",
     "output_type": "stream",
     "text": [
      "0.862\n"
     ]
    }
   ],
   "source": [
    "# print('{0:.3f}'.format( stats.mannwhitneyu(orders[orders['group']=='A']['revenue']\\\n",
    "#                                            ,orders[orders['group']=='B']['revenue']), alternative='two-sided')[1])\n",
    "print('{0:.3f}'.format( stats.mannwhitneyu(orders[orders['group']=='A']['revenue']\\\n",
    "                                           ,orders[orders['group']=='B']['revenue'],alternative='two-sided')[1]))"
   ]
  },
  {
   "cell_type": "code",
   "execution_count": 70,
   "metadata": {},
   "outputs": [
    {
     "name": "stdout",
     "output_type": "stream",
     "text": [
      "0.278\n"
     ]
    }
   ],
   "source": [
    "print('{0:.3f}'.format(orders[orders['group']=='B']['revenue'].mean()/orders[orders['group']=='A']['revenue'].mean()-1))"
   ]
  },
  {
   "cell_type": "markdown",
   "metadata": {},
   "source": [
    "### Conclusion: \n",
    "\n",
    "The p-value is greater than 0.05, so there's no reason to reject the null hypothesis."
   ]
  },
  {
   "cell_type": "markdown",
   "metadata": {},
   "source": [
    "### Find the statistical significance of the difference in conversion between the groups using the filtered data:"
   ]
  },
  {
   "cell_type": "code",
   "execution_count": 71,
   "metadata": {},
   "outputs": [
    {
     "data": {
      "text/plain": [
       "58      611059232\n",
       "211    2108163459\n",
       "310    2988190573\n",
       "409    3908431265\n",
       "416    3967698036\n",
       "33      249864742\n",
       "347    2742574263\n",
       "Name: visitorId, dtype: int64"
      ]
     },
     "execution_count": 71,
     "metadata": {},
     "output_type": "execute_result"
    }
   ],
   "source": [
    "userswithmanyorders = pd.concat([orderbyusersA[orderbyusersA['orders'] > 2 ]['visitorId'],orderbyusersB[orderbyusersB['orders'] > 2]['visitorId']], axis=0)\n",
    "userswithmanyorders"
   ]
  },
  {
   "cell_type": "code",
   "execution_count": 72,
   "metadata": {},
   "outputs": [],
   "source": [
    "userwithexpesiveorders = orders[orders['revenue'] > 5000]['visitorId']\n",
    "abnormalUsers = pd.concat([userswithmanyorders, userwithexpesiveorders], axis=0).drop_duplicates().sort_values()"
   ]
  },
  {
   "cell_type": "code",
   "execution_count": 73,
   "metadata": {},
   "outputs": [
    {
     "name": "stdout",
     "output_type": "stream",
     "text": [
      "(8,)\n"
     ]
    }
   ],
   "source": [
    "print(abnormalUsers.shape)"
   ]
  },
  {
   "cell_type": "code",
   "execution_count": 74,
   "metadata": {
    "scrolled": true
   },
   "outputs": [],
   "source": [
    "sampleAfilter = pd.concat([orderbyusersA[np.logical_not(orderbyusersA['visitorId'].isin(abnormalUsers))]['orders']\\\n",
    "                           , pd.Series(0, index=np.arange(visits[visits['group'] =='A']['visits']\\\n",
    "                                                          .sum() - len(orderbyusersA['orders'])),name='orders')],axis=0)"
   ]
  },
  {
   "cell_type": "code",
   "execution_count": 75,
   "metadata": {},
   "outputs": [],
   "source": [
    "sampleBfilter = pd.concat([orderbyusersB[np.logical_not(orderbyusersB['visitorId'].isin(abnormalUsers))]['orders']\\\n",
    "                           ,pd.Series(0, index=np.arange(visits[visits['group'] =='B']['visits']\\\n",
    "                                                         .sum() - len(orderbyusersB['orders'])), name='orders')], axis=0)"
   ]
  },
  {
   "cell_type": "markdown",
   "metadata": {},
   "source": [
    "**_Apply the statistical Mann-Whitney criterion to the resulting samples:_**"
   ]
  },
  {
   "cell_type": "code",
   "execution_count": 76,
   "metadata": {},
   "outputs": [
    {
     "name": "stdout",
     "output_type": "stream",
     "text": [
      "0.004\n"
     ]
    }
   ],
   "source": [
    "print('{0:.3f}'.format(stats.mannwhitneyu(sampleAfilter, sampleBfilter)[1]))"
   ]
  },
  {
   "cell_type": "code",
   "execution_count": 77,
   "metadata": {},
   "outputs": [
    {
     "name": "stdout",
     "output_type": "stream",
     "text": [
      "0.183\n"
     ]
    }
   ],
   "source": [
    "print('{0:.3f}'. format(sampleBfilter.mean()/ sampleAfilter.mean() -1))"
   ]
  },
  {
   "cell_type": "markdown",
   "metadata": {},
   "source": [
    "### Conclusion: \n",
    "\n",
    "The results for the conversion almost did not change.we can see the relative difference in the Avg.order sizes of the groups."
   ]
  },
  {
   "cell_type": "markdown",
   "metadata": {},
   "source": [
    "### Find the statistical significance of the difference in average order size between the groups using the filtered data :"
   ]
  },
  {
   "cell_type": "code",
   "execution_count": 78,
   "metadata": {},
   "outputs": [
    {
     "name": "stdout",
     "output_type": "stream",
     "text": [
      "0.355\n"
     ]
    }
   ],
   "source": [
    "print('{0:.3f}'.format(stats.mannwhitneyu\n",
    "                       (orders[np.logical_and\n",
    "                               (orders['group'] =='A',\n",
    "                                np.logical_not(orders['visitorId'].isin(abnormalUsers)))]['revenue'],\n",
    "                        orders[np.logical_and(orders['group'] =='B',\n",
    "                                              np.logical_not(orders['visitorId'].isin(abnormalUsers)))]['revenue'])[1]))"
   ]
  },
  {
   "cell_type": "code",
   "execution_count": 79,
   "metadata": {},
   "outputs": [
    {
     "name": "stdout",
     "output_type": "stream",
     "text": [
      "-0.042\n"
     ]
    }
   ],
   "source": [
    "print('{0:.3f}'.format(orders[np.logical_and(orders['group'] =='B', np.logical_not(orders['visitorId'].isin(abnormalUsers)))]['revenue'].mean()/orders[np.logical_and(orders['group'] =='A', np.logical_not(orders['visitorId'].isin(abnormalUsers)))]['revenue'].mean() -1))"
   ]
  },
  {
   "cell_type": "markdown",
   "metadata": {},
   "source": [
    "### Conclusion :\n",
    "The p-value increased, but now the difference between the segments is 4% instead of 27%."
   ]
  },
  {
   "cell_type": "markdown",
   "metadata": {},
   "source": [
    "### Make a decision based on the test results. The possible decisions are: 1. Stop the test, consider one of the groups the leader. 2. Stop the test, conclude that there is no difference between the groups. 3. Continue the test: "
   ]
  },
  {
   "attachments": {
    "group%20A%20&%20B%20Conversion2.png": {
     "image/png": "[encoded data removed]"
    }
   },
   "cell_type": "markdown",
   "metadata": {},
   "source": [
    "### Final Conclusion: ( Part 1)\n",
    "\n",
    "1. Raw data and filter data revealed statistically significant difference in conversion between the groups.\n",
    "\n",
    "2. Filter data  showing statistically significant difference in Average order size between the groups.\n",
    "\n",
    "3. The graph shows that the difference between the group tell us group B results gradually improving then stabilizing.\n",
    "\n",
    "![group%20A%20&%20B%20Conversion2.png](attachment:group%20A%20&%20B%20Conversion2.png)"
   ]
  },
  {
   "attachments": {
    "relative%20gain%20in%20group%20size%20B2.png": {
     "image/png": "[encoded data removed]"
    }
   },
   "cell_type": "markdown",
   "metadata": {},
   "source": [
    "### (Part 2)\n",
    "\n",
    "The below graph showing the difference in conversion between the groups tells us that group B's results are seem to be improving.\n",
    "\n",
    "![relative%20gain%20in%20group%20size%20B2.png](attachment:relative%20gain%20in%20group%20size%20B2.png)"
   ]
  },
  {
   "attachments": {
    "relative%20diff.%20size%20B2.png": {
     "image/png": "[encoded data removed]"
    }
   },
   "cell_type": "markdown",
   "metadata": {},
   "source": [
    "### ( Part 3) \n",
    "\n",
    "\n",
    "The below graph showing an evidence in average order size between the groups tells us that group B's results are gradually increasing then slightly decline and stabilize:\n",
    "\n",
    "![relative%20diff.%20size%20B2.png](attachment:relative%20diff.%20size%20B2.png)\n"
   ]
  },
  {
   "cell_type": "markdown",
   "metadata": {},
   "source": [
    "### ( Part 3) \n",
    "\n",
    "\n",
    "**Based on these facts, we can conclude that the test is successful and should be stopped. since the probability that segment B will turn out to be better than segment A is almost successfull.**"
   ]
  },
  {
   "cell_type": "markdown",
   "metadata": {},
   "source": []
  },
  {
   "cell_type": "markdown",
   "metadata": {},
   "source": []
  }
 ],
 "metadata": {
  "ExecuteTimeLog": [
   {
    "duration": 23469,
    "start_time": "2021-10-21T18:59:04.045Z"
   },
   {
    "duration": 132,
    "start_time": "2021-10-21T18:59:27.516Z"
   },
   {
    "duration": 11,
    "start_time": "2021-10-21T18:59:27.651Z"
   },
   {
    "duration": 8,
    "start_time": "2021-10-21T18:59:27.663Z"
   },
   {
    "duration": 11,
    "start_time": "2021-10-21T18:59:27.672Z"
   },
   {
    "duration": 7,
    "start_time": "2021-10-21T18:59:27.684Z"
   },
   {
    "duration": 7,
    "start_time": "2021-10-21T18:59:27.692Z"
   },
   {
    "duration": 8,
    "start_time": "2021-10-21T18:59:27.701Z"
   },
   {
    "duration": 12,
    "start_time": "2021-10-21T18:59:27.711Z"
   },
   {
    "duration": 4,
    "start_time": "2021-10-21T18:59:27.724Z"
   },
   {
    "duration": 8,
    "start_time": "2021-10-21T18:59:27.730Z"
   },
   {
    "duration": 9,
    "start_time": "2021-10-21T18:59:27.739Z"
   },
   {
    "duration": 6,
    "start_time": "2021-10-21T18:59:27.750Z"
   },
   {
    "duration": 10,
    "start_time": "2021-10-21T18:59:27.758Z"
   },
   {
    "duration": 8,
    "start_time": "2021-10-21T18:59:27.791Z"
   },
   {
    "duration": 16,
    "start_time": "2021-10-21T18:59:27.800Z"
   },
   {
    "duration": 610,
    "start_time": "2021-10-21T18:59:27.817Z"
   },
   {
    "duration": 11,
    "start_time": "2021-10-21T18:59:28.429Z"
   },
   {
    "duration": 13,
    "start_time": "2021-10-21T18:59:28.442Z"
   },
   {
    "duration": 519,
    "start_time": "2021-10-21T18:59:28.457Z"
   },
   {
    "duration": 13,
    "start_time": "2021-10-21T18:59:28.978Z"
   },
   {
    "duration": 235,
    "start_time": "2021-10-21T18:59:28.993Z"
   },
   {
    "duration": 9,
    "start_time": "2021-10-21T18:59:29.232Z"
   },
   {
    "duration": 419,
    "start_time": "2021-10-21T18:59:29.243Z"
   },
   {
    "duration": 295,
    "start_time": "2021-10-21T18:59:29.664Z"
   },
   {
    "duration": 163,
    "start_time": "2021-10-21T18:59:29.961Z"
   },
   {
    "duration": 316,
    "start_time": "2021-10-21T18:59:30.126Z"
   },
   {
    "duration": 9,
    "start_time": "2021-10-21T18:59:30.444Z"
   },
   {
    "duration": 450,
    "start_time": "2021-10-21T18:59:30.454Z"
   },
   {
    "duration": 13,
    "start_time": "2021-10-21T18:59:30.906Z"
   },
   {
    "duration": 14,
    "start_time": "2021-10-21T18:59:30.921Z"
   },
   {
    "duration": 9,
    "start_time": "2021-10-21T18:59:30.937Z"
   },
   {
    "duration": 14,
    "start_time": "2021-10-21T18:59:30.947Z"
   },
   {
    "duration": 18,
    "start_time": "2021-10-21T18:59:30.962Z"
   },
   {
    "duration": 13,
    "start_time": "2021-10-21T18:59:30.982Z"
   },
   {
    "duration": 310,
    "start_time": "2021-10-21T18:59:30.996Z"
   },
   {
    "duration": 2,
    "start_time": "2021-10-21T18:59:31.308Z"
   },
   {
    "duration": 403,
    "start_time": "2021-10-21T18:59:31.311Z"
   },
   {
    "duration": 9,
    "start_time": "2021-10-21T18:59:31.715Z"
   },
   {
    "duration": 75,
    "start_time": "2021-10-21T18:59:31.725Z"
   },
   {
    "duration": 2,
    "start_time": "2021-10-21T18:59:31.802Z"
   },
   {
    "duration": 9,
    "start_time": "2021-10-21T18:59:31.806Z"
   },
   {
    "duration": 5,
    "start_time": "2021-10-21T18:59:31.817Z"
   },
   {
    "duration": 299,
    "start_time": "2021-10-21T18:59:31.823Z"
   },
   {
    "duration": 4,
    "start_time": "2021-10-21T18:59:32.124Z"
   },
   {
    "duration": 14,
    "start_time": "2021-10-21T18:59:32.130Z"
   },
   {
    "duration": 67,
    "start_time": "2021-10-21T18:59:32.146Z"
   },
   {
    "duration": 199,
    "start_time": "2021-10-21T18:59:32.215Z"
   },
   {
    "duration": 292,
    "start_time": "2021-10-21T18:59:32.415Z"
   },
   {
    "duration": 390,
    "start_time": "2021-10-21T18:59:32.709Z"
   },
   {
    "duration": 4,
    "start_time": "2021-10-21T18:59:33.101Z"
   },
   {
    "duration": 14,
    "start_time": "2021-10-21T18:59:33.106Z"
   },
   {
    "duration": 45,
    "start_time": "2021-10-21T18:59:33.122Z"
   },
   {
    "duration": 7,
    "start_time": "2021-10-21T18:59:33.191Z"
   },
   {
    "duration": 8,
    "start_time": "2021-10-21T18:59:33.200Z"
   },
   {
    "duration": 3,
    "start_time": "2021-10-21T18:59:33.210Z"
   },
   {
    "duration": 14,
    "start_time": "2021-10-21T18:59:33.215Z"
   },
   {
    "duration": 7,
    "start_time": "2021-10-21T18:59:33.230Z"
   },
   {
    "duration": 5,
    "start_time": "2021-10-21T18:59:33.239Z"
   },
   {
    "duration": 6,
    "start_time": "2021-10-21T18:59:33.246Z"
   },
   {
    "duration": 37,
    "start_time": "2021-10-21T18:59:33.254Z"
   },
   {
    "duration": 4,
    "start_time": "2021-10-21T18:59:33.293Z"
   },
   {
    "duration": 10,
    "start_time": "2021-10-21T18:59:33.298Z"
   },
   {
    "duration": 8,
    "start_time": "2021-10-21T18:59:33.309Z"
   },
   {
    "duration": 7,
    "start_time": "2021-10-21T18:59:33.319Z"
   },
   {
    "duration": 3,
    "start_time": "2021-10-21T18:59:33.328Z"
   },
   {
    "duration": 9,
    "start_time": "2021-10-21T18:59:33.332Z"
   },
   {
    "duration": 6,
    "start_time": "2021-10-21T18:59:33.345Z"
   },
   {
    "duration": 7863,
    "start_time": "2021-10-21T19:20:20.937Z"
   },
   {
    "duration": 119,
    "start_time": "2021-10-21T19:20:28.802Z"
   },
   {
    "duration": 11,
    "start_time": "2021-10-21T19:20:28.924Z"
   },
   {
    "duration": 7,
    "start_time": "2021-10-21T19:20:28.936Z"
   },
   {
    "duration": 10,
    "start_time": "2021-10-21T19:20:28.945Z"
   },
   {
    "duration": 5,
    "start_time": "2021-10-21T19:20:28.957Z"
   },
   {
    "duration": 5,
    "start_time": "2021-10-21T19:20:28.964Z"
   },
   {
    "duration": 7,
    "start_time": "2021-10-21T19:20:28.971Z"
   },
   {
    "duration": 12,
    "start_time": "2021-10-21T19:20:28.980Z"
   },
   {
    "duration": 4,
    "start_time": "2021-10-21T19:20:28.994Z"
   },
   {
    "duration": 8,
    "start_time": "2021-10-21T19:20:28.999Z"
   },
   {
    "duration": 8,
    "start_time": "2021-10-21T19:20:29.008Z"
   },
   {
    "duration": 5,
    "start_time": "2021-10-21T19:20:29.018Z"
   },
   {
    "duration": 10,
    "start_time": "2021-10-21T19:20:29.024Z"
   },
   {
    "duration": 8,
    "start_time": "2021-10-21T19:20:29.035Z"
   },
   {
    "duration": 9,
    "start_time": "2021-10-21T19:20:29.044Z"
   },
   {
    "duration": 593,
    "start_time": "2021-10-21T19:20:29.055Z"
   },
   {
    "duration": 12,
    "start_time": "2021-10-21T19:20:29.650Z"
   },
   {
    "duration": 10,
    "start_time": "2021-10-21T19:20:29.663Z"
   },
   {
    "duration": 509,
    "start_time": "2021-10-21T19:20:29.675Z"
   },
   {
    "duration": 7,
    "start_time": "2021-10-21T19:20:30.187Z"
   },
   {
    "duration": 249,
    "start_time": "2021-10-21T19:20:30.196Z"
   },
   {
    "duration": 9,
    "start_time": "2021-10-21T19:20:30.449Z"
   },
   {
    "duration": 18,
    "start_time": "2021-10-21T19:20:30.460Z"
   },
   {
    "duration": 302,
    "start_time": "2021-10-21T19:20:30.479Z"
   },
   {
    "duration": 154,
    "start_time": "2021-10-21T19:20:30.783Z"
   },
   {
    "duration": 302,
    "start_time": "2021-10-21T19:20:30.939Z"
   },
   {
    "duration": 10,
    "start_time": "2021-10-21T19:20:31.243Z"
   },
   {
    "duration": 429,
    "start_time": "2021-10-21T19:20:31.254Z"
   },
   {
    "duration": 16,
    "start_time": "2021-10-21T19:20:31.685Z"
   },
   {
    "duration": 9,
    "start_time": "2021-10-21T19:20:31.703Z"
   },
   {
    "duration": 11,
    "start_time": "2021-10-21T19:20:31.713Z"
   },
   {
    "duration": 6,
    "start_time": "2021-10-21T19:20:31.725Z"
   },
   {
    "duration": 16,
    "start_time": "2021-10-21T19:20:31.733Z"
   },
   {
    "duration": 9,
    "start_time": "2021-10-21T19:20:31.751Z"
   },
   {
    "duration": 311,
    "start_time": "2021-10-21T19:20:31.762Z"
   },
   {
    "duration": 18,
    "start_time": "2021-10-21T19:20:32.075Z"
   },
   {
    "duration": 395,
    "start_time": "2021-10-21T19:20:32.094Z"
   },
   {
    "duration": 8,
    "start_time": "2021-10-21T19:20:32.491Z"
   },
   {
    "duration": 47,
    "start_time": "2021-10-21T19:20:32.500Z"
   },
   {
    "duration": 2,
    "start_time": "2021-10-21T19:20:32.549Z"
   },
   {
    "duration": 7,
    "start_time": "2021-10-21T19:20:32.553Z"
   },
   {
    "duration": 4,
    "start_time": "2021-10-21T19:20:32.561Z"
   },
   {
    "duration": 328,
    "start_time": "2021-10-21T19:20:32.566Z"
   },
   {
    "duration": 4,
    "start_time": "2021-10-21T19:20:32.896Z"
   },
   {
    "duration": 12,
    "start_time": "2021-10-21T19:20:32.902Z"
   },
   {
    "duration": 57,
    "start_time": "2021-10-21T19:20:32.916Z"
   },
   {
    "duration": 183,
    "start_time": "2021-10-21T19:20:32.975Z"
   },
   {
    "duration": 320,
    "start_time": "2021-10-21T19:20:33.160Z"
   },
   {
    "duration": 390,
    "start_time": "2021-10-21T19:20:33.482Z"
   },
   {
    "duration": 4,
    "start_time": "2021-10-21T19:20:33.874Z"
   },
   {
    "duration": 23,
    "start_time": "2021-10-21T19:20:33.879Z"
   },
   {
    "duration": 44,
    "start_time": "2021-10-21T19:20:33.904Z"
   },
   {
    "duration": 7,
    "start_time": "2021-10-21T19:20:33.949Z"
   },
   {
    "duration": 8,
    "start_time": "2021-10-21T19:20:33.957Z"
   },
   {
    "duration": 3,
    "start_time": "2021-10-21T19:20:33.966Z"
   },
   {
    "duration": 12,
    "start_time": "2021-10-21T19:20:33.992Z"
   },
   {
    "duration": 6,
    "start_time": "2021-10-21T19:20:34.005Z"
   },
   {
    "duration": 5,
    "start_time": "2021-10-21T19:20:34.012Z"
   },
   {
    "duration": 6,
    "start_time": "2021-10-21T19:20:34.019Z"
   },
   {
    "duration": 5,
    "start_time": "2021-10-21T19:20:34.027Z"
   },
   {
    "duration": 5,
    "start_time": "2021-10-21T19:20:34.033Z"
   },
   {
    "duration": 6,
    "start_time": "2021-10-21T19:20:34.040Z"
   },
   {
    "duration": 47,
    "start_time": "2021-10-21T19:20:34.047Z"
   },
   {
    "duration": 9,
    "start_time": "2021-10-21T19:20:34.095Z"
   },
   {
    "duration": 4,
    "start_time": "2021-10-21T19:20:34.105Z"
   },
   {
    "duration": 8,
    "start_time": "2021-10-21T19:20:34.111Z"
   },
   {
    "duration": 7,
    "start_time": "2021-10-21T19:20:34.123Z"
   },
   {
    "duration": 7821,
    "start_time": "2021-10-21T19:26:55.589Z"
   },
   {
    "duration": 129,
    "start_time": "2021-10-21T19:27:03.412Z"
   },
   {
    "duration": 11,
    "start_time": "2021-10-21T19:27:03.543Z"
   },
   {
    "duration": 19,
    "start_time": "2021-10-21T19:27:03.555Z"
   },
   {
    "duration": 14,
    "start_time": "2021-10-21T19:27:03.576Z"
   },
   {
    "duration": 7,
    "start_time": "2021-10-21T19:27:03.592Z"
   },
   {
    "duration": 10,
    "start_time": "2021-10-21T19:27:03.601Z"
   },
   {
    "duration": 15,
    "start_time": "2021-10-21T19:27:03.613Z"
   },
   {
    "duration": 18,
    "start_time": "2021-10-21T19:27:03.630Z"
   },
   {
    "duration": 13,
    "start_time": "2021-10-21T19:27:03.649Z"
   },
   {
    "duration": 9,
    "start_time": "2021-10-21T19:27:03.663Z"
   },
   {
    "duration": 18,
    "start_time": "2021-10-21T19:27:03.673Z"
   },
   {
    "duration": 10,
    "start_time": "2021-10-21T19:27:03.692Z"
   },
   {
    "duration": 16,
    "start_time": "2021-10-21T19:27:03.703Z"
   },
   {
    "duration": 19,
    "start_time": "2021-10-21T19:27:03.721Z"
   },
   {
    "duration": 15,
    "start_time": "2021-10-21T19:27:03.742Z"
   },
   {
    "duration": 582,
    "start_time": "2021-10-21T19:27:03.759Z"
   },
   {
    "duration": 12,
    "start_time": "2021-10-21T19:27:04.342Z"
   },
   {
    "duration": 12,
    "start_time": "2021-10-21T19:27:04.356Z"
   },
   {
    "duration": 492,
    "start_time": "2021-10-21T19:27:04.369Z"
   },
   {
    "duration": 5,
    "start_time": "2021-10-21T19:27:04.863Z"
   },
   {
    "duration": 242,
    "start_time": "2021-10-21T19:27:04.870Z"
   },
   {
    "duration": 12,
    "start_time": "2021-10-21T19:27:05.117Z"
   },
   {
    "duration": 6,
    "start_time": "2021-10-21T19:27:05.132Z"
   },
   {
    "duration": 363,
    "start_time": "2021-10-21T19:27:05.140Z"
   },
   {
    "duration": 149,
    "start_time": "2021-10-21T19:27:05.505Z"
   },
   {
    "duration": 290,
    "start_time": "2021-10-21T19:27:05.655Z"
   },
   {
    "duration": 8,
    "start_time": "2021-10-21T19:27:05.947Z"
   },
   {
    "duration": 429,
    "start_time": "2021-10-21T19:27:05.957Z"
   },
   {
    "duration": 12,
    "start_time": "2021-10-21T19:27:06.387Z"
   },
   {
    "duration": 9,
    "start_time": "2021-10-21T19:27:06.401Z"
   },
   {
    "duration": 6,
    "start_time": "2021-10-21T19:27:06.412Z"
   },
   {
    "duration": 4,
    "start_time": "2021-10-21T19:27:06.420Z"
   },
   {
    "duration": 13,
    "start_time": "2021-10-21T19:27:06.426Z"
   },
   {
    "duration": 4,
    "start_time": "2021-10-21T19:27:06.441Z"
   },
   {
    "duration": 305,
    "start_time": "2021-10-21T19:27:06.446Z"
   },
   {
    "duration": 2,
    "start_time": "2021-10-21T19:27:06.753Z"
   },
   {
    "duration": 431,
    "start_time": "2021-10-21T19:27:06.756Z"
   },
   {
    "duration": 8,
    "start_time": "2021-10-21T19:27:07.191Z"
   },
   {
    "duration": 54,
    "start_time": "2021-10-21T19:27:07.201Z"
   },
   {
    "duration": 3,
    "start_time": "2021-10-21T19:27:07.256Z"
   },
   {
    "duration": 8,
    "start_time": "2021-10-21T19:27:07.260Z"
   },
   {
    "duration": 2,
    "start_time": "2021-10-21T19:27:07.292Z"
   },
   {
    "duration": 317,
    "start_time": "2021-10-21T19:27:07.296Z"
   },
   {
    "duration": 4,
    "start_time": "2021-10-21T19:27:07.615Z"
   },
   {
    "duration": 12,
    "start_time": "2021-10-21T19:27:07.620Z"
   },
   {
    "duration": 66,
    "start_time": "2021-10-21T19:27:07.633Z"
   },
   {
    "duration": 175,
    "start_time": "2021-10-21T19:27:07.701Z"
   },
   {
    "duration": 313,
    "start_time": "2021-10-21T19:27:07.878Z"
   },
   {
    "duration": 377,
    "start_time": "2021-10-21T19:27:08.194Z"
   },
   {
    "duration": 5,
    "start_time": "2021-10-21T19:27:08.573Z"
   },
   {
    "duration": 12,
    "start_time": "2021-10-21T19:27:08.591Z"
   },
   {
    "duration": 47,
    "start_time": "2021-10-21T19:27:08.605Z"
   },
   {
    "duration": 37,
    "start_time": "2021-10-21T19:27:08.654Z"
   },
   {
    "duration": 8,
    "start_time": "2021-10-21T19:27:08.693Z"
   },
   {
    "duration": 5,
    "start_time": "2021-10-21T19:27:08.703Z"
   },
   {
    "duration": 19,
    "start_time": "2021-10-21T19:27:08.709Z"
   },
   {
    "duration": 6,
    "start_time": "2021-10-21T19:27:08.730Z"
   },
   {
    "duration": 6,
    "start_time": "2021-10-21T19:27:08.737Z"
   },
   {
    "duration": 8,
    "start_time": "2021-10-21T19:27:08.744Z"
   },
   {
    "duration": 4,
    "start_time": "2021-10-21T19:27:08.754Z"
   },
   {
    "duration": 34,
    "start_time": "2021-10-21T19:27:08.759Z"
   },
   {
    "duration": 9,
    "start_time": "2021-10-21T19:27:08.795Z"
   },
   {
    "duration": 12,
    "start_time": "2021-10-21T19:27:08.805Z"
   },
   {
    "duration": 6,
    "start_time": "2021-10-21T19:27:08.819Z"
   },
   {
    "duration": 4,
    "start_time": "2021-10-21T19:27:08.826Z"
   },
   {
    "duration": 9,
    "start_time": "2021-10-21T19:27:08.831Z"
   },
   {
    "duration": 6,
    "start_time": "2021-10-21T19:27:08.844Z"
   },
   {
    "duration": 9,
    "start_time": "2021-10-21T19:38:53.899Z"
   },
   {
    "duration": 7,
    "start_time": "2021-10-21T19:38:56.553Z"
   },
   {
    "duration": 368,
    "start_time": "2021-10-21T19:38:56.891Z"
   },
   {
    "duration": 141,
    "start_time": "2021-10-21T19:38:59.473Z"
   },
   {
    "duration": 281,
    "start_time": "2021-10-21T19:38:59.872Z"
   },
   {
    "duration": 9,
    "start_time": "2021-10-21T19:39:01.273Z"
   },
   {
    "duration": 395,
    "start_time": "2021-10-21T19:39:01.512Z"
   },
   {
    "duration": 12,
    "start_time": "2021-10-21T19:39:02.192Z"
   },
   {
    "duration": 9,
    "start_time": "2021-10-21T19:39:02.402Z"
   },
   {
    "duration": 6,
    "start_time": "2021-10-21T19:39:02.612Z"
   },
   {
    "duration": 3,
    "start_time": "2021-10-21T19:39:03.104Z"
   },
   {
    "duration": 14,
    "start_time": "2021-10-21T19:39:03.378Z"
   },
   {
    "duration": 4,
    "start_time": "2021-10-21T19:39:03.584Z"
   },
   {
    "duration": 267,
    "start_time": "2021-10-21T19:39:03.778Z"
   },
   {
    "duration": 3,
    "start_time": "2021-10-21T19:39:04.712Z"
   },
   {
    "duration": 407,
    "start_time": "2021-10-21T19:39:05.457Z"
   },
   {
    "duration": 9,
    "start_time": "2021-10-21T19:39:06.690Z"
   },
   {
    "duration": 48,
    "start_time": "2021-10-21T19:39:06.911Z"
   },
   {
    "duration": 3,
    "start_time": "2021-10-21T19:39:07.121Z"
   },
   {
    "duration": 7,
    "start_time": "2021-10-21T19:39:07.330Z"
   },
   {
    "duration": 3,
    "start_time": "2021-10-21T19:39:07.576Z"
   },
   {
    "duration": 300,
    "start_time": "2021-10-21T19:39:07.793Z"
   },
   {
    "duration": 4,
    "start_time": "2021-10-21T19:39:08.551Z"
   },
   {
    "duration": 8,
    "start_time": "2021-10-21T19:39:09.118Z"
   },
   {
    "duration": 50,
    "start_time": "2021-10-21T19:39:09.295Z"
   },
   {
    "duration": 176,
    "start_time": "2021-10-21T19:39:09.489Z"
   },
   {
    "duration": 316,
    "start_time": "2021-10-21T19:39:09.667Z"
   },
   {
    "duration": 272,
    "start_time": "2021-10-21T19:39:10.225Z"
   },
   {
    "duration": 4,
    "start_time": "2021-10-21T19:39:10.499Z"
   },
   {
    "duration": 12,
    "start_time": "2021-10-21T19:39:10.967Z"
   },
   {
    "duration": 48,
    "start_time": "2021-10-21T19:39:11.161Z"
   },
   {
    "duration": 7,
    "start_time": "2021-10-21T19:39:11.345Z"
   },
   {
    "duration": 7,
    "start_time": "2021-10-21T19:39:11.530Z"
   },
   {
    "duration": 4,
    "start_time": "2021-10-21T19:39:11.741Z"
   },
   {
    "duration": 12,
    "start_time": "2021-10-21T19:39:12.271Z"
   },
   {
    "duration": 6,
    "start_time": "2021-10-21T19:39:12.779Z"
   },
   {
    "duration": 6,
    "start_time": "2021-10-21T19:39:12.842Z"
   },
   {
    "duration": 8,
    "start_time": "2021-10-21T19:39:13.010Z"
   },
   {
    "duration": 5,
    "start_time": "2021-10-21T19:39:13.071Z"
   },
   {
    "duration": 3,
    "start_time": "2021-10-21T19:39:13.149Z"
   },
   {
    "duration": 90,
    "start_time": "2021-10-21T19:39:13.211Z"
   },
   {
    "duration": 6,
    "start_time": "2021-10-21T19:39:13.304Z"
   },
   {
    "duration": 5,
    "start_time": "2021-10-21T19:39:13.365Z"
   },
   {
    "duration": 4,
    "start_time": "2021-10-21T19:39:13.459Z"
   },
   {
    "duration": 8,
    "start_time": "2021-10-21T19:39:13.633Z"
   },
   {
    "duration": 8,
    "start_time": "2021-10-21T19:39:13.680Z"
   },
   {
    "duration": 66,
    "start_time": "2021-10-21T19:56:28.300Z"
   },
   {
    "duration": 7724,
    "start_time": "2021-10-21T20:06:22.285Z"
   },
   {
    "duration": 124,
    "start_time": "2021-10-21T20:06:30.011Z"
   },
   {
    "duration": 10,
    "start_time": "2021-10-21T20:06:30.137Z"
   },
   {
    "duration": 10,
    "start_time": "2021-10-21T20:06:30.149Z"
   },
   {
    "duration": 14,
    "start_time": "2021-10-21T20:06:30.161Z"
   },
   {
    "duration": 8,
    "start_time": "2021-10-21T20:06:30.177Z"
   },
   {
    "duration": 10,
    "start_time": "2021-10-21T20:06:30.186Z"
   },
   {
    "duration": 11,
    "start_time": "2021-10-21T20:06:30.199Z"
   },
   {
    "duration": 22,
    "start_time": "2021-10-21T20:06:30.213Z"
   },
   {
    "duration": 9,
    "start_time": "2021-10-21T20:06:30.237Z"
   },
   {
    "duration": 14,
    "start_time": "2021-10-21T20:06:30.248Z"
   },
   {
    "duration": 8,
    "start_time": "2021-10-21T20:06:30.264Z"
   },
   {
    "duration": 10,
    "start_time": "2021-10-21T20:06:30.274Z"
   },
   {
    "duration": 16,
    "start_time": "2021-10-21T20:06:30.285Z"
   },
   {
    "duration": 14,
    "start_time": "2021-10-21T20:06:30.303Z"
   },
   {
    "duration": 14,
    "start_time": "2021-10-21T20:06:30.319Z"
   },
   {
    "duration": 600,
    "start_time": "2021-10-21T20:06:30.334Z"
   },
   {
    "duration": 13,
    "start_time": "2021-10-21T20:06:30.936Z"
   },
   {
    "duration": 12,
    "start_time": "2021-10-21T20:06:30.950Z"
   },
   {
    "duration": 584,
    "start_time": "2021-10-21T20:06:30.964Z"
   },
   {
    "duration": 5,
    "start_time": "2021-10-21T20:06:31.549Z"
   },
   {
    "duration": 241,
    "start_time": "2021-10-21T20:06:31.556Z"
   },
   {
    "duration": 9,
    "start_time": "2021-10-21T20:06:31.801Z"
   },
   {
    "duration": 28,
    "start_time": "2021-10-21T20:06:31.812Z"
   },
   {
    "duration": 376,
    "start_time": "2021-10-21T20:06:31.842Z"
   },
   {
    "duration": 148,
    "start_time": "2021-10-21T20:06:32.220Z"
   },
   {
    "duration": 297,
    "start_time": "2021-10-21T20:06:32.370Z"
   },
   {
    "duration": 8,
    "start_time": "2021-10-21T20:06:32.668Z"
   },
   {
    "duration": 430,
    "start_time": "2021-10-21T20:06:32.678Z"
   },
   {
    "duration": 13,
    "start_time": "2021-10-21T20:06:33.110Z"
   },
   {
    "duration": 10,
    "start_time": "2021-10-21T20:06:33.125Z"
   },
   {
    "duration": 7,
    "start_time": "2021-10-21T20:06:33.136Z"
   },
   {
    "duration": 4,
    "start_time": "2021-10-21T20:06:33.145Z"
   },
   {
    "duration": 45,
    "start_time": "2021-10-21T20:06:33.150Z"
   },
   {
    "duration": 5,
    "start_time": "2021-10-21T20:06:33.197Z"
   },
   {
    "duration": 293,
    "start_time": "2021-10-21T20:06:33.204Z"
   },
   {
    "duration": 2,
    "start_time": "2021-10-21T20:06:33.500Z"
   },
   {
    "duration": 398,
    "start_time": "2021-10-21T20:06:33.504Z"
   },
   {
    "duration": 10,
    "start_time": "2021-10-21T20:06:33.904Z"
   },
   {
    "duration": 50,
    "start_time": "2021-10-21T20:06:33.916Z"
   },
   {
    "duration": 25,
    "start_time": "2021-10-21T20:06:33.967Z"
   },
   {
    "duration": 8,
    "start_time": "2021-10-21T20:06:33.994Z"
   },
   {
    "duration": 4,
    "start_time": "2021-10-21T20:06:34.004Z"
   },
   {
    "duration": 294,
    "start_time": "2021-10-21T20:06:34.010Z"
   },
   {
    "duration": 5,
    "start_time": "2021-10-21T20:06:34.306Z"
   },
   {
    "duration": 11,
    "start_time": "2021-10-21T20:06:34.313Z"
   },
   {
    "duration": 73,
    "start_time": "2021-10-21T20:06:34.325Z"
   },
   {
    "duration": 186,
    "start_time": "2021-10-21T20:06:34.400Z"
   },
   {
    "duration": 311,
    "start_time": "2021-10-21T20:06:34.592Z"
   },
   {
    "duration": 401,
    "start_time": "2021-10-21T20:06:34.905Z"
   },
   {
    "duration": 4,
    "start_time": "2021-10-21T20:06:35.309Z"
   },
   {
    "duration": 15,
    "start_time": "2021-10-21T20:06:35.315Z"
   },
   {
    "duration": 64,
    "start_time": "2021-10-21T20:06:35.332Z"
   },
   {
    "duration": 7,
    "start_time": "2021-10-21T20:06:35.398Z"
   },
   {
    "duration": 11,
    "start_time": "2021-10-21T20:06:35.406Z"
   },
   {
    "duration": 4,
    "start_time": "2021-10-21T20:06:35.419Z"
   },
   {
    "duration": 15,
    "start_time": "2021-10-21T20:06:35.424Z"
   },
   {
    "duration": 6,
    "start_time": "2021-10-21T20:06:35.440Z"
   },
   {
    "duration": 7,
    "start_time": "2021-10-21T20:06:35.447Z"
   },
   {
    "duration": 40,
    "start_time": "2021-10-21T20:06:35.455Z"
   },
   {
    "duration": 5,
    "start_time": "2021-10-21T20:06:35.496Z"
   },
   {
    "duration": 6,
    "start_time": "2021-10-21T20:06:35.503Z"
   },
   {
    "duration": 8,
    "start_time": "2021-10-21T20:06:35.510Z"
   },
   {
    "duration": 6,
    "start_time": "2021-10-21T20:06:35.520Z"
   },
   {
    "duration": 11,
    "start_time": "2021-10-21T20:06:35.527Z"
   },
   {
    "duration": 4,
    "start_time": "2021-10-21T20:06:35.540Z"
   },
   {
    "duration": 12,
    "start_time": "2021-10-21T20:06:35.546Z"
   },
   {
    "duration": 34,
    "start_time": "2021-10-21T20:06:35.562Z"
   },
   {
    "duration": 4,
    "start_time": "2021-10-21T20:07:38.567Z"
   },
   {
    "duration": 7735,
    "start_time": "2021-10-21T20:14:49.871Z"
   },
   {
    "duration": 119,
    "start_time": "2021-10-21T20:14:57.607Z"
   },
   {
    "duration": 10,
    "start_time": "2021-10-21T20:14:57.728Z"
   },
   {
    "duration": 9,
    "start_time": "2021-10-21T20:14:57.740Z"
   },
   {
    "duration": 9,
    "start_time": "2021-10-21T20:14:57.750Z"
   },
   {
    "duration": 6,
    "start_time": "2021-10-21T20:14:57.761Z"
   },
   {
    "duration": 6,
    "start_time": "2021-10-21T20:14:57.768Z"
   },
   {
    "duration": 7,
    "start_time": "2021-10-21T20:14:57.778Z"
   },
   {
    "duration": 10,
    "start_time": "2021-10-21T20:14:57.791Z"
   },
   {
    "duration": 5,
    "start_time": "2021-10-21T20:14:57.802Z"
   },
   {
    "duration": 7,
    "start_time": "2021-10-21T20:14:57.809Z"
   },
   {
    "duration": 7,
    "start_time": "2021-10-21T20:14:57.818Z"
   },
   {
    "duration": 5,
    "start_time": "2021-10-21T20:14:57.827Z"
   },
   {
    "duration": 10,
    "start_time": "2021-10-21T20:14:57.833Z"
   },
   {
    "duration": 48,
    "start_time": "2021-10-21T20:14:57.844Z"
   },
   {
    "duration": 9,
    "start_time": "2021-10-21T20:14:57.894Z"
   },
   {
    "duration": 577,
    "start_time": "2021-10-21T20:14:57.905Z"
   },
   {
    "duration": 11,
    "start_time": "2021-10-21T20:14:58.491Z"
   },
   {
    "duration": 9,
    "start_time": "2021-10-21T20:14:58.504Z"
   },
   {
    "duration": 488,
    "start_time": "2021-10-21T20:14:58.515Z"
   },
   {
    "duration": 6,
    "start_time": "2021-10-21T20:14:59.005Z"
   },
   {
    "duration": 247,
    "start_time": "2021-10-21T20:14:59.013Z"
   },
   {
    "duration": 8,
    "start_time": "2021-10-21T20:14:59.265Z"
   },
   {
    "duration": 18,
    "start_time": "2021-10-21T20:14:59.276Z"
   },
   {
    "duration": 347,
    "start_time": "2021-10-21T20:14:59.296Z"
   },
   {
    "duration": 150,
    "start_time": "2021-10-21T20:14:59.645Z"
   },
   {
    "duration": 288,
    "start_time": "2021-10-21T20:14:59.797Z"
   },
   {
    "duration": 10,
    "start_time": "2021-10-21T20:15:00.086Z"
   },
   {
    "duration": 411,
    "start_time": "2021-10-21T20:15:00.098Z"
   },
   {
    "duration": 11,
    "start_time": "2021-10-21T20:15:00.510Z"
   },
   {
    "duration": 15,
    "start_time": "2021-10-21T20:15:00.523Z"
   },
   {
    "duration": 12,
    "start_time": "2021-10-21T20:15:00.540Z"
   },
   {
    "duration": 13,
    "start_time": "2021-10-21T20:15:00.553Z"
   },
   {
    "duration": 24,
    "start_time": "2021-10-21T20:15:00.567Z"
   },
   {
    "duration": 8,
    "start_time": "2021-10-21T20:15:00.593Z"
   },
   {
    "duration": 291,
    "start_time": "2021-10-21T20:15:00.603Z"
   },
   {
    "duration": 2,
    "start_time": "2021-10-21T20:15:00.896Z"
   },
   {
    "duration": 396,
    "start_time": "2021-10-21T20:15:00.899Z"
   },
   {
    "duration": 8,
    "start_time": "2021-10-21T20:15:01.297Z"
   },
   {
    "duration": 47,
    "start_time": "2021-10-21T20:15:01.307Z"
   },
   {
    "duration": 2,
    "start_time": "2021-10-21T20:15:01.356Z"
   },
   {
    "duration": 17,
    "start_time": "2021-10-21T20:15:01.360Z"
   },
   {
    "duration": 12,
    "start_time": "2021-10-21T20:15:01.379Z"
   },
   {
    "duration": 302,
    "start_time": "2021-10-21T20:15:01.393Z"
   },
   {
    "duration": 4,
    "start_time": "2021-10-21T20:15:01.696Z"
   },
   {
    "duration": 13,
    "start_time": "2021-10-21T20:15:01.702Z"
   },
   {
    "duration": 47,
    "start_time": "2021-10-21T20:15:01.717Z"
   },
   {
    "duration": 202,
    "start_time": "2021-10-21T20:15:01.766Z"
   },
   {
    "duration": 316,
    "start_time": "2021-10-21T20:15:01.970Z"
   },
   {
    "duration": 394,
    "start_time": "2021-10-21T20:15:02.291Z"
   },
   {
    "duration": 4,
    "start_time": "2021-10-21T20:15:02.692Z"
   },
   {
    "duration": 19,
    "start_time": "2021-10-21T20:15:02.697Z"
   },
   {
    "duration": 44,
    "start_time": "2021-10-21T20:15:02.717Z"
   },
   {
    "duration": 7,
    "start_time": "2021-10-21T20:15:02.763Z"
   },
   {
    "duration": 24,
    "start_time": "2021-10-21T20:15:02.772Z"
   },
   {
    "duration": 7,
    "start_time": "2021-10-21T20:15:02.798Z"
   },
   {
    "duration": 6,
    "start_time": "2021-10-21T20:15:02.807Z"
   },
   {
    "duration": 12,
    "start_time": "2021-10-21T20:15:02.815Z"
   },
   {
    "duration": 8,
    "start_time": "2021-10-21T20:15:02.828Z"
   },
   {
    "duration": 9,
    "start_time": "2021-10-21T20:15:02.837Z"
   },
   {
    "duration": 14,
    "start_time": "2021-10-21T20:15:02.848Z"
   },
   {
    "duration": 5,
    "start_time": "2021-10-21T20:15:02.863Z"
   },
   {
    "duration": 3,
    "start_time": "2021-10-21T20:15:02.892Z"
   },
   {
    "duration": 7,
    "start_time": "2021-10-21T20:15:02.897Z"
   },
   {
    "duration": 6,
    "start_time": "2021-10-21T20:15:02.906Z"
   },
   {
    "duration": 9,
    "start_time": "2021-10-21T20:15:02.913Z"
   },
   {
    "duration": 10,
    "start_time": "2021-10-21T20:15:02.923Z"
   },
   {
    "duration": 8,
    "start_time": "2021-10-21T20:15:02.937Z"
   },
   {
    "duration": 8,
    "start_time": "2021-10-21T20:15:02.947Z"
   },
   {
    "duration": 286,
    "start_time": "2021-10-21T20:20:15.108Z"
   },
   {
    "duration": 36498,
    "start_time": "2021-10-27T19:59:39.860Z"
   },
   {
    "duration": 154,
    "start_time": "2021-10-27T20:00:16.361Z"
   },
   {
    "duration": 20,
    "start_time": "2021-10-27T20:00:16.518Z"
   },
   {
    "duration": 13,
    "start_time": "2021-10-27T20:00:16.542Z"
   },
   {
    "duration": 22,
    "start_time": "2021-10-27T20:00:16.558Z"
   },
   {
    "duration": 45,
    "start_time": "2021-10-27T20:00:16.582Z"
   },
   {
    "duration": 8,
    "start_time": "2021-10-27T20:00:16.629Z"
   },
   {
    "duration": 13,
    "start_time": "2021-10-27T20:00:16.642Z"
   },
   {
    "duration": 19,
    "start_time": "2021-10-27T20:00:16.658Z"
   },
   {
    "duration": 7,
    "start_time": "2021-10-27T20:00:16.679Z"
   },
   {
    "duration": 8,
    "start_time": "2021-10-27T20:00:16.723Z"
   },
   {
    "duration": 12,
    "start_time": "2021-10-27T20:00:16.734Z"
   },
   {
    "duration": 6,
    "start_time": "2021-10-27T20:00:16.750Z"
   },
   {
    "duration": 65,
    "start_time": "2021-10-27T20:00:16.759Z"
   },
   {
    "duration": 12,
    "start_time": "2021-10-27T20:00:16.827Z"
   },
   {
    "duration": 15,
    "start_time": "2021-10-27T20:00:16.841Z"
   },
   {
    "duration": 1052,
    "start_time": "2021-10-27T20:00:16.859Z"
   },
   {
    "duration": 19,
    "start_time": "2021-10-27T20:00:17.914Z"
   },
   {
    "duration": 804,
    "start_time": "2021-10-27T20:00:17.936Z"
   },
   {
    "duration": 1403,
    "start_time": "2021-10-27T20:00:18.743Z"
   },
   {
    "duration": 8,
    "start_time": "2021-10-27T20:00:20.148Z"
   },
   {
    "duration": 812,
    "start_time": "2021-10-27T20:00:20.158Z"
   },
   {
    "duration": 44,
    "start_time": "2021-10-27T20:00:20.986Z"
   },
   {
    "duration": 17,
    "start_time": "2021-10-27T20:00:21.036Z"
   },
   {
    "duration": 33,
    "start_time": "2021-10-27T20:00:21.056Z"
   },
   {
    "duration": 35,
    "start_time": "2021-10-27T20:00:21.092Z"
   },
   {
    "duration": 555,
    "start_time": "2021-10-27T20:00:21.130Z"
   },
   {
    "duration": 235,
    "start_time": "2021-10-27T20:00:21.687Z"
   },
   {
    "duration": 473,
    "start_time": "2021-10-27T20:00:21.924Z"
   },
   {
    "duration": 13,
    "start_time": "2021-10-27T20:00:22.399Z"
   },
   {
    "duration": 550,
    "start_time": "2021-10-27T20:00:22.423Z"
   },
   {
    "duration": 13,
    "start_time": "2021-10-27T20:00:22.975Z"
   },
   {
    "duration": 35,
    "start_time": "2021-10-27T20:00:22.991Z"
   },
   {
    "duration": 24,
    "start_time": "2021-10-27T20:00:23.028Z"
   },
   {
    "duration": 27,
    "start_time": "2021-10-27T20:00:23.054Z"
   },
   {
    "duration": 35,
    "start_time": "2021-10-27T20:00:23.084Z"
   },
   {
    "duration": 26,
    "start_time": "2021-10-27T20:00:23.122Z"
   },
   {
    "duration": 33,
    "start_time": "2021-10-27T20:00:23.150Z"
   },
   {
    "duration": 450,
    "start_time": "2021-10-27T20:00:23.185Z"
   },
   {
    "duration": 3,
    "start_time": "2021-10-27T20:00:23.638Z"
   },
   {
    "duration": 563,
    "start_time": "2021-10-27T20:00:23.644Z"
   },
   {
    "duration": 19,
    "start_time": "2021-10-27T20:00:24.210Z"
   },
   {
    "duration": 37,
    "start_time": "2021-10-27T20:00:24.232Z"
   },
   {
    "duration": 112,
    "start_time": "2021-10-27T20:00:24.272Z"
   },
   {
    "duration": 4,
    "start_time": "2021-10-27T20:00:24.386Z"
   },
   {
    "duration": 29,
    "start_time": "2021-10-27T20:00:24.393Z"
   },
   {
    "duration": 21,
    "start_time": "2021-10-27T20:00:24.424Z"
   },
   {
    "duration": 425,
    "start_time": "2021-10-27T20:00:24.447Z"
   },
   {
    "duration": 6,
    "start_time": "2021-10-27T20:00:24.874Z"
   },
   {
    "duration": 36,
    "start_time": "2021-10-27T20:00:24.882Z"
   },
   {
    "duration": 121,
    "start_time": "2021-10-27T20:00:24.920Z"
   },
   {
    "duration": 294,
    "start_time": "2021-10-27T20:00:25.044Z"
   },
   {
    "duration": 396,
    "start_time": "2021-10-27T20:00:25.341Z"
   },
   {
    "duration": 5,
    "start_time": "2021-10-27T20:00:25.740Z"
   },
   {
    "duration": 323,
    "start_time": "2021-10-27T20:00:25.748Z"
   },
   {
    "duration": 14,
    "start_time": "2021-10-27T20:00:26.074Z"
   },
   {
    "duration": 119,
    "start_time": "2021-10-27T20:00:26.091Z"
   },
   {
    "duration": 13,
    "start_time": "2021-10-27T20:00:26.213Z"
   },
   {
    "duration": 15,
    "start_time": "2021-10-27T20:00:26.229Z"
   },
   {
    "duration": 15,
    "start_time": "2021-10-27T20:00:26.247Z"
   },
   {
    "duration": 20,
    "start_time": "2021-10-27T20:00:26.265Z"
   },
   {
    "duration": 8,
    "start_time": "2021-10-27T20:00:26.288Z"
   },
   {
    "duration": 26,
    "start_time": "2021-10-27T20:00:26.299Z"
   },
   {
    "duration": 10,
    "start_time": "2021-10-27T20:00:26.327Z"
   },
   {
    "duration": 31,
    "start_time": "2021-10-27T20:00:26.340Z"
   },
   {
    "duration": 18,
    "start_time": "2021-10-27T20:00:26.374Z"
   },
   {
    "duration": 31,
    "start_time": "2021-10-27T20:00:26.395Z"
   },
   {
    "duration": 13,
    "start_time": "2021-10-27T20:00:26.434Z"
   },
   {
    "duration": 19,
    "start_time": "2021-10-27T20:00:26.450Z"
   },
   {
    "duration": 25,
    "start_time": "2021-10-27T20:00:26.472Z"
   },
   {
    "duration": 15,
    "start_time": "2021-10-27T20:00:26.499Z"
   },
   {
    "duration": 24,
    "start_time": "2021-10-27T20:00:26.517Z"
   },
   {
    "duration": 26,
    "start_time": "2021-10-27T20:00:26.544Z"
   },
   {
    "duration": 23,
    "start_time": "2021-10-27T20:00:26.573Z"
   },
   {
    "duration": 14,
    "start_time": "2021-10-27T20:00:26.599Z"
   },
   {
    "duration": 10,
    "start_time": "2021-10-27T20:00:26.615Z"
   },
   {
    "duration": 30,
    "start_time": "2021-10-27T20:00:26.627Z"
   },
   {
    "duration": 12,
    "start_time": "2021-10-27T20:00:26.660Z"
   },
   {
    "duration": 14573,
    "start_time": "2021-10-27T20:54:06.890Z"
   },
   {
    "duration": 154,
    "start_time": "2021-10-27T20:54:21.466Z"
   },
   {
    "duration": 16,
    "start_time": "2021-10-27T20:54:21.623Z"
   },
   {
    "duration": 11,
    "start_time": "2021-10-27T20:54:21.642Z"
   },
   {
    "duration": 16,
    "start_time": "2021-10-27T20:54:21.655Z"
   },
   {
    "duration": 8,
    "start_time": "2021-10-27T20:54:21.673Z"
   },
   {
    "duration": 41,
    "start_time": "2021-10-27T20:54:21.684Z"
   },
   {
    "duration": 11,
    "start_time": "2021-10-27T20:54:21.731Z"
   },
   {
    "duration": 17,
    "start_time": "2021-10-27T20:54:21.746Z"
   },
   {
    "duration": 6,
    "start_time": "2021-10-27T20:54:21.766Z"
   },
   {
    "duration": 50,
    "start_time": "2021-10-27T20:54:21.774Z"
   },
   {
    "duration": 15,
    "start_time": "2021-10-27T20:54:21.826Z"
   },
   {
    "duration": 9,
    "start_time": "2021-10-27T20:54:21.843Z"
   },
   {
    "duration": 13,
    "start_time": "2021-10-27T20:54:21.855Z"
   },
   {
    "duration": 12,
    "start_time": "2021-10-27T20:54:21.870Z"
   },
   {
    "duration": 49,
    "start_time": "2021-10-27T20:54:21.884Z"
   },
   {
    "duration": 1103,
    "start_time": "2021-10-27T20:54:21.936Z"
   },
   {
    "duration": 13,
    "start_time": "2021-10-27T20:54:23.042Z"
   },
   {
    "duration": 17,
    "start_time": "2021-10-27T20:54:23.057Z"
   },
   {
    "duration": 948,
    "start_time": "2021-10-27T20:54:23.077Z"
   },
   {
    "duration": 9,
    "start_time": "2021-10-27T20:54:24.029Z"
   },
   {
    "duration": 429,
    "start_time": "2021-10-27T20:54:24.041Z"
   },
   {
    "duration": 12,
    "start_time": "2021-10-27T20:54:24.478Z"
   },
   {
    "duration": 34,
    "start_time": "2021-10-27T20:54:24.496Z"
   },
   {
    "duration": 19,
    "start_time": "2021-10-27T20:54:24.533Z"
   },
   {
    "duration": 12,
    "start_time": "2021-10-27T20:54:24.555Z"
   },
   {
    "duration": 499,
    "start_time": "2021-10-27T20:54:24.570Z"
   },
   {
    "duration": 253,
    "start_time": "2021-10-27T20:54:25.072Z"
   },
   {
    "duration": 495,
    "start_time": "2021-10-27T20:54:25.328Z"
   },
   {
    "duration": 13,
    "start_time": "2021-10-27T20:54:25.825Z"
   },
   {
    "duration": 572,
    "start_time": "2021-10-27T20:54:25.840Z"
   },
   {
    "duration": 16,
    "start_time": "2021-10-27T20:54:26.415Z"
   },
   {
    "duration": 14,
    "start_time": "2021-10-27T20:54:26.433Z"
   },
   {
    "duration": 4,
    "start_time": "2021-10-27T20:54:26.449Z"
   },
   {
    "duration": 5,
    "start_time": "2021-10-27T20:54:26.456Z"
   },
   {
    "duration": 19,
    "start_time": "2021-10-27T20:54:26.463Z"
   },
   {
    "duration": 37,
    "start_time": "2021-10-27T20:54:26.484Z"
   },
   {
    "duration": 9,
    "start_time": "2021-10-27T20:54:26.524Z"
   },
   {
    "duration": 469,
    "start_time": "2021-10-27T20:54:26.535Z"
   },
   {
    "duration": 3,
    "start_time": "2021-10-27T20:54:27.006Z"
   },
   {
    "duration": 566,
    "start_time": "2021-10-27T20:54:27.022Z"
   },
   {
    "duration": 11,
    "start_time": "2021-10-27T20:54:27.590Z"
   },
   {
    "duration": 29,
    "start_time": "2021-10-27T20:54:27.603Z"
   },
   {
    "duration": 145,
    "start_time": "2021-10-27T20:54:27.635Z"
   },
   {
    "duration": 4,
    "start_time": "2021-10-27T20:54:27.783Z"
   },
   {
    "duration": 14,
    "start_time": "2021-10-27T20:54:27.790Z"
   },
   {
    "duration": 18,
    "start_time": "2021-10-27T20:54:27.807Z"
   },
   {
    "duration": 418,
    "start_time": "2021-10-27T20:54:27.828Z"
   },
   {
    "duration": 6,
    "start_time": "2021-10-27T20:54:28.248Z"
   },
   {
    "duration": 25,
    "start_time": "2021-10-27T20:54:28.257Z"
   },
   {
    "duration": 97,
    "start_time": "2021-10-27T20:54:28.285Z"
   },
   {
    "duration": 299,
    "start_time": "2021-10-27T20:54:28.384Z"
   },
   {
    "duration": 448,
    "start_time": "2021-10-27T20:54:28.685Z"
   },
   {
    "duration": 5,
    "start_time": "2021-10-27T20:54:29.135Z"
   },
   {
    "duration": 310,
    "start_time": "2021-10-27T20:54:29.142Z"
   },
   {
    "duration": 13,
    "start_time": "2021-10-27T20:54:29.455Z"
   },
   {
    "duration": 111,
    "start_time": "2021-10-27T20:54:29.470Z"
   },
   {
    "duration": 10,
    "start_time": "2021-10-27T20:54:29.584Z"
   },
   {
    "duration": 15,
    "start_time": "2021-10-27T20:54:29.597Z"
   },
   {
    "duration": 5,
    "start_time": "2021-10-27T20:54:29.624Z"
   },
   {
    "duration": 10,
    "start_time": "2021-10-27T20:54:29.632Z"
   },
   {
    "duration": 9,
    "start_time": "2021-10-27T20:54:29.645Z"
   },
   {
    "duration": 7,
    "start_time": "2021-10-27T20:54:29.656Z"
   },
   {
    "duration": 10,
    "start_time": "2021-10-27T20:54:29.666Z"
   },
   {
    "duration": 51,
    "start_time": "2021-10-27T20:54:29.679Z"
   },
   {
    "duration": 10,
    "start_time": "2021-10-27T20:54:29.733Z"
   },
   {
    "duration": 20,
    "start_time": "2021-10-27T20:54:29.745Z"
   },
   {
    "duration": 9,
    "start_time": "2021-10-27T20:54:29.772Z"
   },
   {
    "duration": 8,
    "start_time": "2021-10-27T20:54:29.783Z"
   },
   {
    "duration": 10,
    "start_time": "2021-10-27T20:54:29.823Z"
   },
   {
    "duration": 9,
    "start_time": "2021-10-27T20:54:29.835Z"
   },
   {
    "duration": 10,
    "start_time": "2021-10-27T20:54:29.846Z"
   },
   {
    "duration": 10,
    "start_time": "2021-10-27T20:54:29.858Z"
   },
   {
    "duration": 8,
    "start_time": "2021-10-27T20:54:29.870Z"
   },
   {
    "duration": 46,
    "start_time": "2021-10-27T20:54:29.881Z"
   },
   {
    "duration": 5,
    "start_time": "2021-10-27T20:54:29.929Z"
   },
   {
    "duration": 17,
    "start_time": "2021-10-27T20:54:29.936Z"
   },
   {
    "duration": 12,
    "start_time": "2021-10-27T20:54:29.956Z"
   },
   {
    "duration": 13599,
    "start_time": "2021-10-27T21:29:13.459Z"
   },
   {
    "duration": 186,
    "start_time": "2021-10-27T21:29:27.061Z"
   },
   {
    "duration": 15,
    "start_time": "2021-10-27T21:29:27.250Z"
   },
   {
    "duration": 37,
    "start_time": "2021-10-27T21:29:27.268Z"
   },
   {
    "duration": 29,
    "start_time": "2021-10-27T21:29:27.308Z"
   },
   {
    "duration": 35,
    "start_time": "2021-10-27T21:29:27.339Z"
   },
   {
    "duration": 24,
    "start_time": "2021-10-27T21:29:27.377Z"
   },
   {
    "duration": 17,
    "start_time": "2021-10-27T21:29:27.405Z"
   },
   {
    "duration": 29,
    "start_time": "2021-10-27T21:29:27.425Z"
   },
   {
    "duration": 16,
    "start_time": "2021-10-27T21:29:27.457Z"
   },
   {
    "duration": 20,
    "start_time": "2021-10-27T21:29:27.476Z"
   },
   {
    "duration": 24,
    "start_time": "2021-10-27T21:29:27.499Z"
   },
   {
    "duration": 24,
    "start_time": "2021-10-27T21:29:27.526Z"
   },
   {
    "duration": 14,
    "start_time": "2021-10-27T21:29:27.553Z"
   },
   {
    "duration": 24,
    "start_time": "2021-10-27T21:29:27.570Z"
   },
   {
    "duration": 32,
    "start_time": "2021-10-27T21:29:27.597Z"
   },
   {
    "duration": 1008,
    "start_time": "2021-10-27T21:29:27.633Z"
   },
   {
    "duration": 13,
    "start_time": "2021-10-27T21:29:28.643Z"
   },
   {
    "duration": 32,
    "start_time": "2021-10-27T21:29:28.659Z"
   },
   {
    "duration": 979,
    "start_time": "2021-10-27T21:29:28.693Z"
   },
   {
    "duration": 7,
    "start_time": "2021-10-27T21:29:29.674Z"
   },
   {
    "duration": 416,
    "start_time": "2021-10-27T21:29:29.683Z"
   },
   {
    "duration": 18,
    "start_time": "2021-10-27T21:29:30.105Z"
   },
   {
    "duration": 12,
    "start_time": "2021-10-27T21:29:30.128Z"
   },
   {
    "duration": 49,
    "start_time": "2021-10-27T21:29:30.142Z"
   },
   {
    "duration": 22,
    "start_time": "2021-10-27T21:29:30.194Z"
   },
   {
    "duration": 573,
    "start_time": "2021-10-27T21:29:30.218Z"
   },
   {
    "duration": 299,
    "start_time": "2021-10-27T21:29:30.794Z"
   },
   {
    "duration": 464,
    "start_time": "2021-10-27T21:29:31.097Z"
   },
   {
    "duration": 13,
    "start_time": "2021-10-27T21:29:31.563Z"
   },
   {
    "duration": 580,
    "start_time": "2021-10-27T21:29:31.579Z"
   },
   {
    "duration": 12,
    "start_time": "2021-10-27T21:29:32.162Z"
   },
   {
    "duration": 23,
    "start_time": "2021-10-27T21:29:32.178Z"
   },
   {
    "duration": 3,
    "start_time": "2021-10-27T21:29:32.221Z"
   },
   {
    "duration": 17,
    "start_time": "2021-10-27T21:29:32.227Z"
   },
   {
    "duration": 25,
    "start_time": "2021-10-27T21:29:32.247Z"
   },
   {
    "duration": 21,
    "start_time": "2021-10-27T21:29:32.275Z"
   },
   {
    "duration": 21,
    "start_time": "2021-10-27T21:29:32.299Z"
   },
   {
    "duration": 509,
    "start_time": "2021-10-27T21:29:32.322Z"
   },
   {
    "duration": 4,
    "start_time": "2021-10-27T21:29:32.834Z"
   },
   {
    "duration": 676,
    "start_time": "2021-10-27T21:29:32.841Z"
   },
   {
    "duration": 10,
    "start_time": "2021-10-27T21:29:33.522Z"
   },
   {
    "duration": 15,
    "start_time": "2021-10-27T21:29:33.535Z"
   },
   {
    "duration": 109,
    "start_time": "2021-10-27T21:29:33.552Z"
   },
   {
    "duration": 3,
    "start_time": "2021-10-27T21:29:33.664Z"
   },
   {
    "duration": 9,
    "start_time": "2021-10-27T21:29:33.671Z"
   },
   {
    "duration": 38,
    "start_time": "2021-10-27T21:29:33.684Z"
   },
   {
    "duration": 412,
    "start_time": "2021-10-27T21:29:33.725Z"
   },
   {
    "duration": 7,
    "start_time": "2021-10-27T21:29:34.141Z"
   },
   {
    "duration": 15,
    "start_time": "2021-10-27T21:29:34.151Z"
   },
   {
    "duration": 121,
    "start_time": "2021-10-27T21:29:34.169Z"
   },
   {
    "duration": 315,
    "start_time": "2021-10-27T21:29:34.293Z"
   },
   {
    "duration": 420,
    "start_time": "2021-10-27T21:29:34.611Z"
   },
   {
    "duration": 6,
    "start_time": "2021-10-27T21:29:35.033Z"
   },
   {
    "duration": 314,
    "start_time": "2021-10-27T21:29:35.041Z"
   },
   {
    "duration": 12,
    "start_time": "2021-10-27T21:29:35.358Z"
   },
   {
    "duration": 108,
    "start_time": "2021-10-27T21:29:35.373Z"
   },
   {
    "duration": 10,
    "start_time": "2021-10-27T21:29:35.483Z"
   },
   {
    "duration": 22,
    "start_time": "2021-10-27T21:29:35.496Z"
   },
   {
    "duration": 13,
    "start_time": "2021-10-27T21:29:35.523Z"
   },
   {
    "duration": 7,
    "start_time": "2021-10-27T21:29:35.538Z"
   },
   {
    "duration": 8,
    "start_time": "2021-10-27T21:29:35.547Z"
   },
   {
    "duration": 13,
    "start_time": "2021-10-27T21:29:35.558Z"
   },
   {
    "duration": 7,
    "start_time": "2021-10-27T21:29:35.573Z"
   },
   {
    "duration": 41,
    "start_time": "2021-10-27T21:29:35.583Z"
   },
   {
    "duration": 6,
    "start_time": "2021-10-27T21:29:35.627Z"
   },
   {
    "duration": 19,
    "start_time": "2021-10-27T21:29:35.635Z"
   },
   {
    "duration": 8,
    "start_time": "2021-10-27T21:29:35.662Z"
   },
   {
    "duration": 18,
    "start_time": "2021-10-27T21:29:35.672Z"
   },
   {
    "duration": 39,
    "start_time": "2021-10-27T21:29:35.692Z"
   },
   {
    "duration": 6,
    "start_time": "2021-10-27T21:29:35.734Z"
   },
   {
    "duration": 7,
    "start_time": "2021-10-27T21:29:35.743Z"
   },
   {
    "duration": 9,
    "start_time": "2021-10-27T21:29:35.753Z"
   },
   {
    "duration": 8,
    "start_time": "2021-10-27T21:29:35.764Z"
   },
   {
    "duration": 50,
    "start_time": "2021-10-27T21:29:35.774Z"
   },
   {
    "duration": 6,
    "start_time": "2021-10-27T21:29:35.826Z"
   },
   {
    "duration": 16,
    "start_time": "2021-10-27T21:29:35.834Z"
   },
   {
    "duration": 12,
    "start_time": "2021-10-27T21:29:35.852Z"
   },
   {
    "duration": 13047,
    "start_time": "2021-10-27T21:35:32.936Z"
   },
   {
    "duration": 154,
    "start_time": "2021-10-27T21:35:45.987Z"
   },
   {
    "duration": 20,
    "start_time": "2021-10-27T21:35:46.146Z"
   },
   {
    "duration": 16,
    "start_time": "2021-10-27T21:35:46.169Z"
   },
   {
    "duration": 16,
    "start_time": "2021-10-27T21:35:46.187Z"
   },
   {
    "duration": 9,
    "start_time": "2021-10-27T21:35:46.206Z"
   },
   {
    "duration": 7,
    "start_time": "2021-10-27T21:35:46.218Z"
   },
   {
    "duration": 19,
    "start_time": "2021-10-27T21:35:46.228Z"
   },
   {
    "duration": 21,
    "start_time": "2021-10-27T21:35:46.253Z"
   },
   {
    "duration": 7,
    "start_time": "2021-10-27T21:35:46.278Z"
   },
   {
    "duration": 15,
    "start_time": "2021-10-27T21:35:46.288Z"
   },
   {
    "duration": 16,
    "start_time": "2021-10-27T21:35:46.306Z"
   },
   {
    "duration": 5,
    "start_time": "2021-10-27T21:35:46.325Z"
   },
   {
    "duration": 16,
    "start_time": "2021-10-27T21:35:46.333Z"
   },
   {
    "duration": 16,
    "start_time": "2021-10-27T21:35:46.352Z"
   },
   {
    "duration": 17,
    "start_time": "2021-10-27T21:35:46.371Z"
   },
   {
    "duration": 1349,
    "start_time": "2021-10-27T21:35:46.391Z"
   },
   {
    "duration": 14,
    "start_time": "2021-10-27T21:35:47.742Z"
   },
   {
    "duration": 15,
    "start_time": "2021-10-27T21:35:47.758Z"
   },
   {
    "duration": 1589,
    "start_time": "2021-10-27T21:35:47.775Z"
   },
   {
    "duration": 7,
    "start_time": "2021-10-27T21:35:49.366Z"
   },
   {
    "duration": 626,
    "start_time": "2021-10-27T21:35:49.376Z"
   },
   {
    "duration": 27,
    "start_time": "2021-10-27T21:35:50.005Z"
   },
   {
    "duration": 13,
    "start_time": "2021-10-27T21:35:50.035Z"
   },
   {
    "duration": 24,
    "start_time": "2021-10-27T21:35:50.051Z"
   },
   {
    "duration": 10,
    "start_time": "2021-10-27T21:35:50.078Z"
   },
   {
    "duration": 723,
    "start_time": "2021-10-27T21:35:50.095Z"
   },
   {
    "duration": 259,
    "start_time": "2021-10-27T21:35:50.822Z"
   },
   {
    "duration": 482,
    "start_time": "2021-10-27T21:35:51.084Z"
   },
   {
    "duration": 14,
    "start_time": "2021-10-27T21:35:51.569Z"
   },
   {
    "duration": 584,
    "start_time": "2021-10-27T21:35:51.586Z"
   },
   {
    "duration": 14,
    "start_time": "2021-10-27T21:35:52.173Z"
   },
   {
    "duration": 34,
    "start_time": "2021-10-27T21:35:52.190Z"
   },
   {
    "duration": 17,
    "start_time": "2021-10-27T21:35:52.226Z"
   },
   {
    "duration": 22,
    "start_time": "2021-10-27T21:35:52.246Z"
   },
   {
    "duration": 37,
    "start_time": "2021-10-27T21:35:52.271Z"
   },
   {
    "duration": 10,
    "start_time": "2021-10-27T21:35:52.310Z"
   },
   {
    "duration": 24,
    "start_time": "2021-10-27T21:35:52.322Z"
   },
   {
    "duration": 463,
    "start_time": "2021-10-27T21:35:52.349Z"
   },
   {
    "duration": 3,
    "start_time": "2021-10-27T21:35:52.823Z"
   },
   {
    "duration": 557,
    "start_time": "2021-10-27T21:35:52.828Z"
   },
   {
    "duration": 11,
    "start_time": "2021-10-27T21:35:53.387Z"
   },
   {
    "duration": 24,
    "start_time": "2021-10-27T21:35:53.401Z"
   },
   {
    "duration": 118,
    "start_time": "2021-10-27T21:35:53.428Z"
   },
   {
    "duration": 4,
    "start_time": "2021-10-27T21:35:53.548Z"
   },
   {
    "duration": 23,
    "start_time": "2021-10-27T21:35:53.554Z"
   },
   {
    "duration": 29,
    "start_time": "2021-10-27T21:35:53.580Z"
   },
   {
    "duration": 436,
    "start_time": "2021-10-27T21:35:53.612Z"
   },
   {
    "duration": 6,
    "start_time": "2021-10-27T21:35:54.051Z"
   },
   {
    "duration": 29,
    "start_time": "2021-10-27T21:35:54.059Z"
   },
   {
    "duration": 110,
    "start_time": "2021-10-27T21:35:54.091Z"
   },
   {
    "duration": 410,
    "start_time": "2021-10-27T21:35:54.204Z"
   },
   {
    "duration": 427,
    "start_time": "2021-10-27T21:35:54.622Z"
   },
   {
    "duration": 5,
    "start_time": "2021-10-27T21:35:55.052Z"
   },
   {
    "duration": 322,
    "start_time": "2021-10-27T21:35:55.060Z"
   },
   {
    "duration": 13,
    "start_time": "2021-10-27T21:35:55.384Z"
   },
   {
    "duration": 114,
    "start_time": "2021-10-27T21:35:55.399Z"
   },
   {
    "duration": 15,
    "start_time": "2021-10-27T21:35:55.515Z"
   },
   {
    "duration": 11,
    "start_time": "2021-10-27T21:35:55.532Z"
   },
   {
    "duration": 7,
    "start_time": "2021-10-27T21:35:55.546Z"
   },
   {
    "duration": 10,
    "start_time": "2021-10-27T21:35:55.556Z"
   },
   {
    "duration": 8,
    "start_time": "2021-10-27T21:35:55.568Z"
   },
   {
    "duration": 47,
    "start_time": "2021-10-27T21:35:55.579Z"
   },
   {
    "duration": 10,
    "start_time": "2021-10-27T21:35:55.629Z"
   },
   {
    "duration": 9,
    "start_time": "2021-10-27T21:35:55.641Z"
   },
   {
    "duration": 12,
    "start_time": "2021-10-27T21:35:55.652Z"
   },
   {
    "duration": 57,
    "start_time": "2021-10-27T21:35:55.667Z"
   },
   {
    "duration": 8,
    "start_time": "2021-10-27T21:35:55.726Z"
   },
   {
    "duration": 13,
    "start_time": "2021-10-27T21:35:55.737Z"
   },
   {
    "duration": 16,
    "start_time": "2021-10-27T21:35:55.753Z"
   },
   {
    "duration": 11,
    "start_time": "2021-10-27T21:35:55.772Z"
   },
   {
    "duration": 38,
    "start_time": "2021-10-27T21:35:55.785Z"
   },
   {
    "duration": 9,
    "start_time": "2021-10-27T21:35:55.827Z"
   },
   {
    "duration": 9,
    "start_time": "2021-10-27T21:35:55.838Z"
   },
   {
    "duration": 10,
    "start_time": "2021-10-27T21:35:55.850Z"
   },
   {
    "duration": 7,
    "start_time": "2021-10-27T21:35:55.863Z"
   },
   {
    "duration": 63,
    "start_time": "2021-10-27T21:35:55.872Z"
   },
   {
    "duration": 13,
    "start_time": "2021-10-27T21:35:55.938Z"
   },
   {
    "duration": 23210,
    "start_time": "2021-10-29T21:11:07.800Z"
   },
   {
    "duration": 150,
    "start_time": "2021-10-29T21:11:31.012Z"
   },
   {
    "duration": 11,
    "start_time": "2021-10-29T21:11:31.164Z"
   },
   {
    "duration": 19,
    "start_time": "2021-10-29T21:11:31.176Z"
   },
   {
    "duration": 11,
    "start_time": "2021-10-29T21:11:31.196Z"
   },
   {
    "duration": 6,
    "start_time": "2021-10-29T21:11:31.208Z"
   },
   {
    "duration": 5,
    "start_time": "2021-10-29T21:11:31.215Z"
   },
   {
    "duration": 9,
    "start_time": "2021-10-29T21:11:31.222Z"
   },
   {
    "duration": 14,
    "start_time": "2021-10-29T21:11:31.232Z"
   },
   {
    "duration": 6,
    "start_time": "2021-10-29T21:11:31.247Z"
   },
   {
    "duration": 4,
    "start_time": "2021-10-29T21:11:31.255Z"
   },
   {
    "duration": 33,
    "start_time": "2021-10-29T21:11:31.260Z"
   },
   {
    "duration": 6,
    "start_time": "2021-10-29T21:11:31.294Z"
   },
   {
    "duration": 11,
    "start_time": "2021-10-29T21:11:31.301Z"
   },
   {
    "duration": 12,
    "start_time": "2021-10-29T21:11:31.313Z"
   },
   {
    "duration": 11,
    "start_time": "2021-10-29T21:11:31.326Z"
   },
   {
    "duration": 572,
    "start_time": "2021-10-29T21:11:31.339Z"
   },
   {
    "duration": 8,
    "start_time": "2021-10-29T21:11:31.913Z"
   },
   {
    "duration": 11,
    "start_time": "2021-10-29T21:11:31.923Z"
   },
   {
    "duration": 485,
    "start_time": "2021-10-29T21:11:31.936Z"
   },
   {
    "duration": 4,
    "start_time": "2021-10-29T21:11:32.424Z"
   },
   {
    "duration": 241,
    "start_time": "2021-10-29T21:11:32.430Z"
   },
   {
    "duration": 8,
    "start_time": "2021-10-29T21:11:32.674Z"
   },
   {
    "duration": 15,
    "start_time": "2021-10-29T21:11:32.684Z"
   },
   {
    "duration": 10,
    "start_time": "2021-10-29T21:11:32.700Z"
   },
   {
    "duration": 12,
    "start_time": "2021-10-29T21:11:32.712Z"
   },
   {
    "duration": 295,
    "start_time": "2021-10-29T21:11:32.725Z"
   },
   {
    "duration": 145,
    "start_time": "2021-10-29T21:11:33.022Z"
   },
   {
    "duration": 275,
    "start_time": "2021-10-29T21:11:33.168Z"
   },
   {
    "duration": 8,
    "start_time": "2021-10-29T21:11:33.444Z"
   },
   {
    "duration": 406,
    "start_time": "2021-10-29T21:11:33.454Z"
   },
   {
    "duration": 8,
    "start_time": "2021-10-29T21:11:33.862Z"
   },
   {
    "duration": 21,
    "start_time": "2021-10-29T21:11:33.871Z"
   },
   {
    "duration": 7,
    "start_time": "2021-10-29T21:11:33.893Z"
   },
   {
    "duration": 11,
    "start_time": "2021-10-29T21:11:33.901Z"
   },
   {
    "duration": 18,
    "start_time": "2021-10-29T21:11:33.913Z"
   },
   {
    "duration": 15,
    "start_time": "2021-10-29T21:11:33.932Z"
   },
   {
    "duration": 13,
    "start_time": "2021-10-29T21:11:33.948Z"
   },
   {
    "duration": 280,
    "start_time": "2021-10-29T21:11:33.963Z"
   },
   {
    "duration": 2,
    "start_time": "2021-10-29T21:11:34.245Z"
   },
   {
    "duration": 411,
    "start_time": "2021-10-29T21:11:34.248Z"
   },
   {
    "duration": 9,
    "start_time": "2021-10-29T21:11:34.660Z"
   },
   {
    "duration": 23,
    "start_time": "2021-10-29T21:11:34.671Z"
   },
   {
    "duration": 49,
    "start_time": "2021-10-29T21:11:34.695Z"
   },
   {
    "duration": 3,
    "start_time": "2021-10-29T21:11:34.745Z"
   },
   {
    "duration": 16,
    "start_time": "2021-10-29T21:11:34.750Z"
   },
   {
    "duration": 13,
    "start_time": "2021-10-29T21:11:34.768Z"
   },
   {
    "duration": 326,
    "start_time": "2021-10-29T21:11:34.782Z"
   },
   {
    "duration": 5,
    "start_time": "2021-10-29T21:11:35.109Z"
   },
   {
    "duration": 20,
    "start_time": "2021-10-29T21:11:35.116Z"
   },
   {
    "duration": 59,
    "start_time": "2021-10-29T21:11:35.138Z"
   },
   {
    "duration": 180,
    "start_time": "2021-10-29T21:11:35.199Z"
   },
   {
    "duration": 300,
    "start_time": "2021-10-29T21:11:35.380Z"
   },
   {
    "duration": 10,
    "start_time": "2021-10-29T21:11:35.682Z"
   },
   {
    "duration": 513,
    "start_time": "2021-10-29T21:11:35.693Z"
   },
   {
    "duration": 216,
    "start_time": "2021-10-29T21:11:36.208Z"
   },
   {
    "duration": 10,
    "start_time": "2021-10-29T21:11:36.425Z"
   },
   {
    "duration": 55,
    "start_time": "2021-10-29T21:11:36.436Z"
   },
   {
    "duration": 6,
    "start_time": "2021-10-29T21:11:36.493Z"
   },
   {
    "duration": 15,
    "start_time": "2021-10-29T21:11:36.500Z"
   },
   {
    "duration": 9,
    "start_time": "2021-10-29T21:11:36.517Z"
   },
   {
    "duration": 13,
    "start_time": "2021-10-29T21:11:36.528Z"
   },
   {
    "duration": 14,
    "start_time": "2021-10-29T21:11:36.542Z"
   },
   {
    "duration": 11,
    "start_time": "2021-10-29T21:11:36.557Z"
   },
   {
    "duration": 22,
    "start_time": "2021-10-29T21:11:36.569Z"
   },
   {
    "duration": 19,
    "start_time": "2021-10-29T21:11:36.592Z"
   },
   {
    "duration": 18,
    "start_time": "2021-10-29T21:11:36.613Z"
   },
   {
    "duration": 21,
    "start_time": "2021-10-29T21:11:36.636Z"
   },
   {
    "duration": 16,
    "start_time": "2021-10-29T21:11:36.659Z"
   },
   {
    "duration": 12,
    "start_time": "2021-10-29T21:11:36.677Z"
   },
   {
    "duration": 8,
    "start_time": "2021-10-29T21:11:36.691Z"
   },
   {
    "duration": 9,
    "start_time": "2021-10-29T21:11:36.701Z"
   },
   {
    "duration": 13,
    "start_time": "2021-10-29T21:11:36.712Z"
   },
   {
    "duration": 7,
    "start_time": "2021-10-29T21:11:36.727Z"
   },
   {
    "duration": 10,
    "start_time": "2021-10-29T21:11:36.736Z"
   },
   {
    "duration": 17,
    "start_time": "2021-10-29T21:11:36.747Z"
   },
   {
    "duration": 4,
    "start_time": "2021-10-29T21:11:36.766Z"
   },
   {
    "duration": 27,
    "start_time": "2021-10-29T21:11:36.772Z"
   },
   {
    "duration": 9,
    "start_time": "2021-10-29T21:11:36.801Z"
   }
  ],
  "kernelspec": {
   "display_name": "Python 3",
   "language": "python",
   "name": "python3"
  },
  "language_info": {
   "codemirror_mode": {
    "name": "ipython",
    "version": 3
   },
   "file_extension": ".py",
   "mimetype": "text/x-python",
   "name": "python",
   "nbconvert_exporter": "python",
   "pygments_lexer": "ipython3",
   "version": "3.8.5"
  },
  "toc": {
   "base_numbering": 1,
   "nav_menu": {},
   "number_sections": true,
   "sideBar": true,
   "skip_h1_title": false,
   "title_cell": "Table of Contents",
   "title_sidebar": "Contents",
   "toc_cell": false,
   "toc_position": {},
   "toc_section_display": true,
   "toc_window_display": false
  }
 },
 "nbformat": 4,
 "nbformat_minor": 4
}
